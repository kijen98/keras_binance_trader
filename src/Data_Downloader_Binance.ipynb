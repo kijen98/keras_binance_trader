{
 "cells": [
  {
   "cell_type": "code",
   "execution_count": null,
   "metadata": {
    "id": "t6WJ2DBMRwkf"
   },
   "outputs": [],
   "source": [
    "import csv\n",
    "import requests\n",
    "import math\n",
    "import asyncio\n",
    "import time\n",
    "import itertools\n",
    "from datetime import datetime, timedelta\n",
    "from dateutil.relativedelta import relativedelta\n",
    "\n",
    "import numpy as np\n",
    "from matplotlib import pyplot as plt\n",
    "\n",
    "from binance.client import Client"
   ]
  },
  {
   "cell_type": "code",
   "execution_count": null,
   "metadata": {
    "id": "q6FhglK1oHsz"
   },
   "outputs": [],
   "source": [
    "# Binance 캔들 가져오기\n",
    "def get_data(ticker, since, now, future=False):\n",
    "    client = Client()\n",
    "    if future:\n",
    "        klines = client.futures_historical_klines(ticker, Client.KLINE_INTERVAL_1MINUTE, since, now)\n",
    "    else:\n",
    "        klines = client.get_historical_klines(ticker, Client.KLINE_INTERVAL_1MINUTE, since, now, 1000)\n",
    "\n",
    "    csv_data = np.array(klines, dtype=np.float64)\n",
    "    print(\"get_data: \", len(csv_data))\n",
    "\n",
    "    return csv_data"
   ]
  },
  {
   "cell_type": "code",
   "execution_count": null,
   "metadata": {},
   "outputs": [],
   "source": [
    "# 최근 데이터만 가져와 저장\n",
    "X_len = 128\n",
    "time_windows = [1]\n",
    "for i in range(2,17):\n",
    "    time_windows.append(i)\n",
    "\n",
    "now = Client().get_server_time()['serverTime']\n",
    "#since = now - 1000 * 60 * ((X_len-1)*time_windows[-1] + 1 + 1440*7)\n",
    "since = int((time.mktime(datetime.strptime(\"2022-08-20 07:07:08\", \"%Y-%m-%d %H:%M:%S\").timetuple()) * 1000) + (1000  * 60 * 60 * 9) - (1000 * 60 * ((X_len-1)*time_windows[-1] + 1)))\n",
    "\n",
    "print(\"since: \", datetime.fromtimestamp(since / 1000))\n",
    "print(\"now: \", datetime.fromtimestamp(now / 1000))\n",
    "\n",
    "symbols = [\"DOGEUSDT\"]\n",
    "for symbol in symbols:\n",
    "    ticker = symbol.split(\"USDT\")[0]\n",
    "    print(ticker)\n",
    "\n",
    "    csv_data = get_data(symbol, since, now, future=True)\n",
    "    np.save(\"../Data/future/usdt/test_recent/\" + ticker + \"_minute.npy\", csv_data)"
   ]
  },
  {
   "cell_type": "code",
   "execution_count": null,
   "metadata": {},
   "outputs": [],
   "source": [
    "# 훈련, 테스트 데이터 기간 설정\n",
    "train_end = datetime(2021,1,1,0,0)\n",
    "train_end = int(time.mktime(train_end.timetuple()) * 1000)\n",
    "print(\"train_end: \", end='')\n",
    "print(train_end)\n",
    "test_end = datetime(2022,6,1,0,0)\n",
    "test_end = int(time.mktime(test_end.timetuple()) * 1000)\n",
    "print(\"test_end: \", end='')\n",
    "print(test_end)"
   ]
  },
  {
   "cell_type": "code",
   "execution_count": null,
   "metadata": {},
   "outputs": [],
   "source": [
    "# 훈련 데이터가 존재하는 종목 확인\n",
    "def get_ticker(train_end, future=False):\n",
    "    client = Client()\n",
    "    if future:\n",
    "        markets = client.futures_ticker()\n",
    "    else:\n",
    "        markets = client.get_ticker()\n",
    "\n",
    "    not_contains = ['UP', 'DOWN', 'USD', 'AUD', 'BIDR', 'BRL', 'EUR', 'GBP', 'RUB', 'TRY', 'TUSD', 'USDC', 'DAI', 'IDRT', 'UAH', 'NGN', 'VAI', 'USDP', 'BKRW', 'BZRX', 'BVND', 'UST']\n",
    "\n",
    "    ticker_volumes = {}\n",
    "    for market in markets:\n",
    "        symbol = market['symbol']\n",
    "        if symbol[-4:] == \"USDT\":\n",
    "            ticker_valid = True\n",
    "            ticker = symbol[:-4]\n",
    "            if all([not_contain not in ticker for not_contain in not_contains]):\n",
    "                if future:\n",
    "                    ohlcvs = client.futures_historical_klines(symbol, Client.KLINE_INTERVAL_1DAY, 0)[0]\n",
    "                else:\n",
    "                    ohlcvs = client.get_historical_klines(symbol, Client.KLINE_INTERVAL_1DAY, 0)[0]\n",
    "                if ohlcvs[0] <= train_end:\n",
    "                    ticker_volumes[symbol] = float(market['quoteVolume'])\n",
    "\n",
    "    sorted_ticker_volumes = sorted(ticker_volumes.items(), key=lambda item: item[1], reverse=True)\n",
    "    symbols = np.array(sorted_ticker_volumes)[0:,0]\n",
    "    \n",
    "    return symbols\n",
    "\n",
    "symbols = get_ticker(train_end, future=False)\n",
    "print(len(symbols))\n",
    "print(symbols)"
   ]
  },
  {
   "cell_type": "code",
   "execution_count": null,
   "metadata": {},
   "outputs": [],
   "source": [
    "# USDT spot ticker\n",
    "symbols = ['BTCUSDT', 'ETHUSDT', 'SOLUSDT', 'BNBUSDT', 'YFIIUSDT', 'XRPUSDT', 'MATICUSDT', 'AVAXUSDT', 'ADAUSDT', 'NEARUSDT', 'YFIUSDT', 'FTMUSDT', 'DOGEUSDT', 'RUNEUSDT', 'SANDUSDT', 'AXSUSDT', 'OGUSDT', 'WAVESUSDT', 'TRXUSDT', 'ZILUSDT', 'LINKUSDT', 'DOTUSDT', 'BCHUSDT', 'CELRUSDT', 'LTCUSDT', 'MANAUSDT', 'WNXMUSDT', 'ONEUSDT', 'AAVEUSDT', 'ATOMUSDT', 'THETAUSDT', 'VETUSDT', 'UNIUSDT', 'RSRUSDT', 'FILUSDT', 'BELUSDT', 'EGLDUSDT', 'LUNAUSDT', 'STORJUSDT', 'ROSEUSDT', 'SNXUSDT', 'ARPAUSDT', 'ETCUSDT', 'UNFIUSDT', 'ALGOUSDT', 'HNTUSDT', 'DUSKUSDT', 'CRVUSDT', 'GRTUSDT', 'OGNUSDT', 'COMPUSDT', 'FTTUSDT', 'UMAUSDT', 'LRCUSDT', 'SUSHIUSDT', 'BLZUSDT', 'BATUSDT', 'XMRUSDT', 'EOSUSDT', 'TRBUSDT', 'KAVAUSDT', 'ASRUSDT', 'XLMUSDT', '1INCHUSDT', 'CHZUSDT', 'SUNUSDT', 'KNCUSDT', 'BALUSDT', 'JSTUSDT', 'ZECUSDT', 'ENJUSDT', 'HBARUSDT', 'FLMUSDT', 'WINUSDT', 'ANTUSDT', 'XTZUSDT', 'CHRUSDT', 'FETUSDT', 'IOTXUSDT', 'GTOUSDT', 'IOSTUSDT', 'MKRUSDT', 'ALPHAUSDT', 'SXPUSDT', 'HOTUSDT', 'NEOUSDT', 'OMGUSDT', 'DASHUSDT', 'OCEANUSDT', 'REPUSDT', 'ANKRUSDT', 'KSMUSDT', 'BTSUSDT', 'BANDUSDT', 'SRMUSDT', 'CTSIUSDT', 'REEFUSDT', 'COTIUSDT', 'RENUSDT', 'RVNUSDT', 'DENTUSDT', 'QTUMUSDT', 'MTLUSDT', 'SKLUSDT', 'IOTAUSDT', 'TFUELUSDT', 'MBLUSDT', 'ZRXUSDT', 'PAXGUSDT', 'TCTUSDT', 'MDTUSDT', 'COCOSUSDT', 'INJUSDT', 'COSUSDT', 'BNTUSDT', 'ONTUSDT', 'JUVUSDT', 'WINGUSDT', 'ATMUSDT', 'DNTUSDT', 'AKROUSDT', 'CVCUSDT', 'XEMUSDT', 'ZENUSDT', 'ICXUSDT', 'TROYUSDT', 'ORNUSDT', 'WRXUSDT', 'NKNUSDT', 'CTKUSDT', 'XVSUSDT', 'TOMOUSDT', 'MFTUSDT', 'PSGUSDT', 'CTXCUSDT', 'NBSUSDT', 'MITHUSDT', 'KEYUSDT', 'VTHOUSDT', 'PNTUSDT', 'DGBUSDT', 'UTKUSDT', 'DREPUSDT', 'AIONUSDT', 'RLCUSDT', 'OXTUSDT', 'PERLUSDT', 'STXUSDT', 'NULSUSDT', 'HARDUSDT', 'LTOUSDT', 'SCUSDT', 'DIAUSDT', 'KMDUSDT', 'STPTUSDT', 'WTCUSDT', 'FIOUSDT', 'DATAUSDT', 'IRISUSDT', 'WANUSDT', 'BEAMUSDT', 'NMRUSDT', 'HIVEUSDT', 'STRAXUSDT', 'ONGUSDT', 'VITEUSDT', 'STMXUSDT', 'DOCKUSDT', 'AVAUSDT', 'LSKUSDT', 'DCRUSDT', 'ARDRUSDT', 'FUNUSDT', 'BCCUSDT', 'VENUSDT', 'PAXUSDT', 'BCHABCUSDT', 'BCHSVUSDT', 'BTTUSDT', 'NANOUSDT', 'ERDUSDT', 'NPXSUSDT', 'STORMUSDT', 'HCUSDT', 'MCOUSDT', 'BULLUSDT', 'BEARUSDT', 'ETHBULLUSDT', 'ETHBEARUSDT', 'EOSBULLUSDT', 'EOSBEARUSDT', 'XRPBULLUSDT', 'XRPBEARUSDT', 'STRATUSDT', 'BNBBULLUSDT', 'BNBBEARUSDT', 'XZCUSDT', 'GXSUSDT', 'LENDUSDT',]\n",
    "print(len(symbols))"
   ]
  },
  {
   "cell_type": "code",
   "execution_count": null,
   "metadata": {},
   "outputs": [],
   "source": [
    "# USDT future ticker\n",
    "symbols = ['BTCUSDT', 'ETHUSDT', 'SOLUSDT', 'STORJUSDT', 'ADAUSDT', 'TRXUSDT', 'BNBUSDT', 'AVAXUSDT', 'LINKUSDT', 'XRPUSDT', 'FTMUSDT', 'DOTUSDT', 'NEARUSDT', 'WAVESUSDT', 'DOGEUSDT', 'PEOPLEUSDT', 'UNFIUSDT', 'GALAUSDT', 'SANDUSDT', 'LTCUSDT', 'AXSUSDT', 'EGLDUSDT', 'BCHUSDT', 'MANAUSDT', 'MATICUSDT', 'ATOMUSDT', 'THETAUSDT', '1000SHIBUSDT', 'ANTUSDT', 'HNTUSDT', 'XTZUSDT', 'BELUSDT', 'AAVEUSDT', 'ETCUSDT', 'ALICEUSDT', 'EOSUSDT', 'ZRXUSDT', 'OGNUSDT', 'XMRUSDT', 'RUNEUSDT', 'RSRUSDT', 'KNCUSDT', 'CRVUSDT', 'ZILUSDT', 'LITUSDT', 'UNIUSDT', 'BLZUSDT', 'RVNUSDT', 'ALGOUSDT', 'ATAUSDT', 'MTLUSDT', 'SFPUSDT', 'FILUSDT', 'GTCUSDT', 'DYDXUSDT', 'ENSUSDT', 'FLMUSDT', 'ICPUSDT', 'SUSHIUSDT', 'LRCUSDT', 'NKNUSDT', 'ZECUSDT', 'VETUSDT', 'BATUSDT', 'CHZUSDT', 'YFIUSDT', 'XLMUSDT', 'BANDUSDT', 'ONEUSDT', '1INCHUSDT', 'OCEANUSDT', 'CTKUSDT', 'COMPUSDT', 'SXPUSDT', 'ENJUSDT', 'STMXUSDT', 'C98USDT', 'ARUSDT', 'TLMUSDT', 'GRTUSDT', 'NEOUSDT', 'SRMUSDT', 'SCUSDT', 'TRBUSDT', 'BAKEUSDT', 'DASHUSDT', 'CELRUSDT', 'KSMUSDT', 'KAVAUSDT', 'SKLUSDT', 'LINAUSDT', 'MASKUSDT', 'CVCUSDT', 'ROSEUSDT', 'ALPHAUSDT', 'REEFUSDT', 'OMGUSDT', 'CHRUSDT', 'SNXUSDT', 'DENTUSDT', 'ICXUSDT', 'MKRUSDT', 'CELOUSDT', 'HOTUSDT', 'ANKRUSDT', 'HBARUSDT', 'IOSTUSDT', 'KLAYUSDT', 'QTUMUSDT', 'CTSIUSDT', 'RENUSDT', 'COTIUSDT', 'BALUSDT', 'IOTAUSDT', 'ONTUSDT', 'XEMUSDT', 'BTCDOMUSDT', 'ZENUSDT', 'LPTUSDT', 'TOMOUSDT', 'ARPAUSDT', 'RLCUSDT', 'IOTXUSDT', '1000XECUSDT', 'DEFIUSDT', 'RAYUSDT', 'BTSUSDT', 'DGBUSDT']\n",
    "print(len(symbols))"
   ]
  },
  {
   "cell_type": "code",
   "execution_count": null,
   "metadata": {},
   "outputs": [],
   "source": [
    "# 훈련, 테스트 데이터 가져와 저장\n",
    "for i, symbol in enumerate(symbols):\n",
    "    if i < 0: # 이 인덱스부터 시작\n",
    "        continue\n",
    "    #ticker = symbol.replace(\"USDT\",\"\")\n",
    "    ticker = symbol.replace(\"USDT\",\"\")\n",
    "    print(i, ticker)\n",
    "\n",
    "    #csv_data = get_data(symbol, 0, train_end)\n",
    "    #np.save(\"../Data/spot/usdt/train_new/\" + ticker + \"_minute.npy\", csv_data)\n",
    "\n",
    "    csv_data = get_data(symbol, train_end, test_end, future=True)\n",
    "    np.save(\"../Data/future/usdt/test_22.05.31/\" + ticker + \"_minute.npy\", csv_data)"
   ]
  },
  {
   "cell_type": "code",
   "execution_count": null,
   "metadata": {},
   "outputs": [],
   "source": []
  }
 ],
 "metadata": {
  "colab": {
   "collapsed_sections": [],
   "name": "Stock_Data_Processor.ipynb",
   "provenance": []
  },
  "kernelspec": {
   "display_name": "Python 3 (ipykernel)",
   "language": "python",
   "name": "python3"
  },
  "language_info": {
   "codemirror_mode": {
    "name": "ipython",
    "version": 3
   },
   "file_extension": ".py",
   "mimetype": "text/x-python",
   "name": "python",
   "nbconvert_exporter": "python",
   "pygments_lexer": "ipython3",
   "version": "3.10.5"
  }
 },
 "nbformat": 4,
 "nbformat_minor": 4
}
