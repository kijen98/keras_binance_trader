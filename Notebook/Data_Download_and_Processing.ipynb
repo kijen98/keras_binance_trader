{
 "cells": [
  {
   "cell_type": "code",
   "execution_count": 1,
   "metadata": {
    "id": "t6WJ2DBMRwkf"
   },
   "outputs": [],
   "source": [
    "import csv\n",
    "import requests\n",
    "import math\n",
    "import asyncio\n",
    "import time\n",
    "from datetime import datetime, timedelta\n",
    "from dateutil.relativedelta import relativedelta\n",
    "\n",
    "import numpy as np\n",
    "from matplotlib import pyplot as plt\n",
    "\n",
    "import ccxt\n",
    "from binance.client import Client\n",
    "import itertools"
   ]
  },
  {
   "cell_type": "code",
   "execution_count": 2,
   "metadata": {},
   "outputs": [
    {
     "name": "stdout",
     "output_type": "stream",
     "text": [
      "# of API keys: 32\n"
     ]
    }
   ],
   "source": [
    "# API key 세팅\n",
    "keys = ['90DUYXNC7RT52O6A', 'R520AVI5YQ4GY3KS', 'KAA7D9WHBDPAMI0W', '4OO4HBAVMWBY9SGB', \n",
    "    '14YXVYTAAPHMZ08W', 'NQIGNQ11QW6A7U3D', '9XC2SEN7V9PNBI6Q', 'C2B0F4WX5DAI9YU7', \n",
    "    'I1PUHU2RCZG4VHTP', '8X22TH1JE6Q3K319', 'JT68VQMI744IBF6N', 'RV6WTJUIHJ2S0IBO', \n",
    "    'RKR3ZUG4T6CXOVQW', 'ABL6T0Y6UTZ8OSLK', 'PZFC6U0H39TUFXR3', 'I2BZ8RWBUKIJAE87', \n",
    "    'U58CCJM3YPFK7O33', 'ASPPECJOXPREEBJB', 'XQS9KILRSAXGIZZN', 'JH0WHTK54KAUDFGZ', \n",
    "    'V0PVJ7MNMWABGGJ3', 'USAG12J9HUXQPKJW', '4HWYPRQZC2ERR5UM', '5EHXMUAABDRHYTFU', \n",
    "    '2HXRSCIBK0W1QCC3', '88R2BYU2UY1SA300', '33I85SJ8PUWNN9V9', 'OMA6UXTC238349UC', \n",
    "    '3O5XU38XF17VABIT', 'HCD6BXPJ97IZ9VSX', '0HUOIOH7EH4J1YGB', 'PG6TU7KMR6KJ89FB']\n",
    "api_keys = itertools.cycle(keys[2:])\n",
    "print(\"# of API keys:\", len(keys))"
   ]
  },
  {
   "cell_type": "code",
   "execution_count": 8,
   "metadata": {
    "scrolled": true,
    "tags": []
   },
   "outputs": [],
   "source": [
    "def find_valid_symbols(api_keys):\n",
    "    # 종목 조회\n",
    "    api_key = next(api_keys)\n",
    "    api_url = \"https://www.alphavantage.co/query?\" + \"function=LISTING_STATUS\" + \"&apikey=\" + 'api_key'\n",
    "    with requests.Session() as s:\n",
    "        download = s.get(api_url)\n",
    "    decoded_content = download.content.decode('utf-8')\n",
    "    cr = csv.reader(decoded_content.splitlines(), delimiter=',')\n",
    "    data_list = list(cr)\n",
    "    data_np = np.array(data_list)\n",
    "    symbols = data_np[1:,0]\n",
    "    print(\"# of symbols:\", len(symbols))\n",
    "    \n",
    "    # 1년 이상의 데이터를 가지고 있는 symbol만 추출\n",
    "    api_function = 'function=TIME_SERIES_INTRADAY_EXTENDED'\n",
    "    api_interval = '&interval=60min'\n",
    "    api_slice = '&slice=year2month1'\n",
    "\n",
    "    valid_symbols = []\n",
    "    i_symbol = 0\n",
    "    print(\"Index\\tSymbol\\tValid_data\")\n",
    "    while i_symbol < len(symbols):\n",
    "        api_key = '&apikey=' + next(api_keys)\n",
    "        symbol = symbols[i_symbol]\n",
    "        api_symbol = \"&symbol=\" + symbol\n",
    "        api_url = 'https://www.alphavantage.co/query?' + api_function + api_symbol + api_interval + api_slice + api_key\n",
    "        with requests.Session() as s:\n",
    "            try:\n",
    "                download = s.get(api_url)\n",
    "            except Exception as e:\n",
    "                print(e)\n",
    "                time.sleep(10)\n",
    "                continue\n",
    "        decoded_content = download.content.decode('utf-8')\n",
    "        cr = csv.reader(decoded_content.splitlines(), delimiter=',')\n",
    "        data_list = list(cr)\n",
    "        data_np = np.array(data_list)\n",
    "        if data_np.shape[1] != 6:\n",
    "            #print(i_symbol, \"api limit\")\n",
    "            time.sleep(60)\n",
    "            continue\n",
    "\n",
    "        print(str(i_symbol)+\"\\t\"+symbol+\"\\t\"+str(len(data_np)))\n",
    "        if len(data_np) > 1:\n",
    "            valid_symbols.append(symbol)\n",
    "        i_symbol += 1\n",
    "    \n",
    "    return valid_symbols"
   ]
  },
  {
   "cell_type": "code",
   "execution_count": 21,
   "metadata": {},
   "outputs": [],
   "source": [
    "# 주식 캔들 가져오기\n",
    "def get_ohlcv(symbol, data_type, api_keys):\n",
    "    api_function = 'function=TIME_SERIES_INTRADAY_EXTENDED'\n",
    "    api_symbol = \"&symbol=\" + symbol\n",
    "    api_interval = '&interval=1min'\n",
    "    #api_slice = '&slice=year1month1'\n",
    "\n",
    "    ohlcv_data = np.zeros((0,5))\n",
    "    year_month = [[i, j] for i in range(1,3) for j in range(1,13)]\n",
    "\n",
    "    if data_type == \"train\":\n",
    "        for i_del in range(5):\n",
    "            del year_month[0]\n",
    "    elif data_type == \"test\":\n",
    "        year_month = [[i, j] for i in range(1,2) for j in range(1,6)]\n",
    "\n",
    "    i_ym = 0\n",
    "    while(i_ym < len(year_month)):\n",
    "        api_key = '&apikey=' + next(api_keys)\n",
    "        ym = year_month[i_ym]\n",
    "        i_year = ym[0]\n",
    "        i_month = ym[1]\n",
    "        api_slice = '&slice=year' + str(i_year) + 'month' + str(i_month)\n",
    "        api_url = 'https://www.alphavantage.co/query?' + api_function + api_symbol + api_interval + api_slice + api_key\n",
    "        with requests.Session() as s:\n",
    "            try:\n",
    "                download = s.get(api_url)\n",
    "            except Exception as e:\n",
    "                print(e)\n",
    "                time.sleep(1)\n",
    "                continue\n",
    "            decoded_content = download.content.decode('utf-8')\n",
    "            cr = csv.reader(decoded_content.splitlines(), delimiter=',')\n",
    "            data_list = list(cr)\n",
    "            data_np = np.array(data_list)\n",
    "\n",
    "            if data_np.shape[1] != 6:\n",
    "                #print(i_ym, \"api limit\")\n",
    "                time.sleep(1)\n",
    "                continue\n",
    "\n",
    "            data_np = data_np[1:,1:6].astype(float)\n",
    "            ohlcv_data = np.append(ohlcv_data, data_np, axis=0)\n",
    "            i_ym += 1\n",
    "        \n",
    "    ohlcv_data = np.flip(ohlcv_data)\n",
    "    print(ohlcv_data.shape)\n",
    "\n",
    "    return ohlcv_data"
   ]
  },
  {
   "cell_type": "code",
   "execution_count": 18,
   "metadata": {},
   "outputs": [],
   "source": [
    "def download_stock_data(api_keys, symbols, mode):          \n",
    "    # 데이터 다운로드 후 저장\n",
    "    save_dir = \"../\"\n",
    "    for i, symbol in enumerate(symbols):\n",
    "        if i < 0:\n",
    "            continue\n",
    "        try:\n",
    "            print(i, symbol)\n",
    "            if mode == \"train\":\n",
    "                ohlcv_data = get_ohlcv(symbol, \"train\", api_keys)\n",
    "                np.save(save_dir + \"/data/stock_total/\" + symbol + \"_minute_.npy\", ohlcv_data[:])\n",
    "            elif mode == \"test\":\n",
    "                ohlcv_data = get_ohlcv(symbol, \"test\", api_keys)\n",
    "                np.save(save_dir + \"/data/stock_tests/\" + symbol + \"_minute_.npy\", ohlcv_data[:])\n",
    "\n",
    "        except Exception as e:\n",
    "            continue"
   ]
  },
  {
   "cell_type": "code",
   "execution_count": 31,
   "metadata": {},
   "outputs": [
    {
     "name": "stdout",
     "output_type": "stream",
     "text": [
      "# of symbols: 0\n",
      "Index\tSymbol\tValid_data\n"
     ]
    }
   ],
   "source": [
    "# 1년 이상 symbol 찾기\n",
    "symbols = find_valid_symbols(api_keys)"
   ]
  },
  {
   "cell_type": "code",
   "execution_count": 22,
   "metadata": {
    "scrolled": true,
    "tags": []
   },
   "outputs": [
    {
     "name": "stdout",
     "output_type": "stream",
     "text": [
      "0 AAPL\n",
      "(324825, 5)\n",
      "1 MSFT\n"
     ]
    },
    {
     "name": "stderr",
     "output_type": "stream",
     "text": [
      "ERROR:root:Internal Python error in the inspect module.\n",
      "Below is the traceback from this internal error.\n",
      "\n"
     ]
    },
    {
     "name": "stdout",
     "output_type": "stream",
     "text": [
      "Traceback (most recent call last):\n",
      "  File \"C:\\ProgramData\\Anaconda3\\envs\\keras\\lib\\site-packages\\IPython\\core\\interactiveshell.py\", line 3444, in run_code\n",
      "    exec(code_obj, self.user_global_ns, self.user_ns)\n",
      "  File \"C:\\Users\\kijen\\AppData\\Local\\Temp/ipykernel_38484/2078636246.py\", line 6, in <module>\n",
      "    download_stock_data(api_keys, symbols, \"train\")\n",
      "  File \"C:\\Users\\kijen\\AppData\\Local\\Temp/ipykernel_38484/3492455909.py\", line 10, in download_stock_data\n",
      "    ohlcv_data = get_ohlcv(symbol, \"train\", api_keys)\n",
      "  File \"C:\\Users\\kijen\\AppData\\Local\\Temp/ipykernel_38484/175116342.py\", line 27, in get_ohlcv\n",
      "    download = s.get(api_url)\n",
      "  File \"C:\\ProgramData\\Anaconda3\\envs\\keras\\lib\\site-packages\\requests\\sessions.py\", line 555, in get\n",
      "    return self.request('GET', url, **kwargs)\n",
      "  File \"C:\\ProgramData\\Anaconda3\\envs\\keras\\lib\\site-packages\\requests\\sessions.py\", line 542, in request\n",
      "    resp = self.send(prep, **send_kwargs)\n",
      "  File \"C:\\ProgramData\\Anaconda3\\envs\\keras\\lib\\site-packages\\requests\\sessions.py\", line 697, in send\n",
      "    r.content\n",
      "  File \"C:\\ProgramData\\Anaconda3\\envs\\keras\\lib\\site-packages\\requests\\models.py\", line 836, in content\n",
      "    self._content = b''.join(self.iter_content(CONTENT_CHUNK_SIZE)) or b''\n",
      "  File \"C:\\ProgramData\\Anaconda3\\envs\\keras\\lib\\site-packages\\requests\\models.py\", line 758, in generate\n",
      "    for chunk in self.raw.stream(chunk_size, decode_content=True):\n",
      "  File \"C:\\ProgramData\\Anaconda3\\envs\\keras\\lib\\site-packages\\urllib3\\response.py\", line 572, in stream\n",
      "    for line in self.read_chunked(amt, decode_content=decode_content):\n",
      "  File \"C:\\ProgramData\\Anaconda3\\envs\\keras\\lib\\site-packages\\urllib3\\response.py\", line 764, in read_chunked\n",
      "    self._update_chunk_length()\n",
      "  File \"C:\\ProgramData\\Anaconda3\\envs\\keras\\lib\\site-packages\\urllib3\\response.py\", line 694, in _update_chunk_length\n",
      "    line = self._fp.fp.readline()\n",
      "  File \"C:\\ProgramData\\Anaconda3\\envs\\keras\\lib\\socket.py\", line 704, in readinto\n",
      "    return self._sock.recv_into(b)\n",
      "  File \"C:\\ProgramData\\Anaconda3\\envs\\keras\\lib\\ssl.py\", line 1241, in recv_into\n",
      "    return self.read(nbytes, buffer)\n",
      "  File \"C:\\ProgramData\\Anaconda3\\envs\\keras\\lib\\ssl.py\", line 1099, in read\n",
      "    return self._sslobj.read(len, buffer)\n",
      "KeyboardInterrupt\n",
      "\n",
      "During handling of the above exception, another exception occurred:\n",
      "\n",
      "Traceback (most recent call last):\n",
      "  File \"C:\\ProgramData\\Anaconda3\\envs\\keras\\lib\\site-packages\\IPython\\core\\interactiveshell.py\", line 2064, in showtraceback\n",
      "    stb = value._render_traceback_()\n",
      "AttributeError: 'KeyboardInterrupt' object has no attribute '_render_traceback_'\n",
      "\n",
      "During handling of the above exception, another exception occurred:\n",
      "\n",
      "Traceback (most recent call last):\n",
      "  File \"C:\\ProgramData\\Anaconda3\\envs\\keras\\lib\\genericpath.py\", line 19, in exists\n",
      "    os.stat(path)\n",
      "FileNotFoundError: [WinError 3] 지정된 경로를 찾을 수 없습니다: 'C:\\\\Users\\\\kijen\\\\AppData\\\\Local\\\\Temp/ipykernel_38484/2078636246.py'\n",
      "\n",
      "During handling of the above exception, another exception occurred:\n",
      "\n",
      "Traceback (most recent call last):\n",
      "  File \"C:\\ProgramData\\Anaconda3\\envs\\keras\\lib\\site-packages\\IPython\\core\\ultratb.py\", line 1101, in get_records\n",
      "    return _fixed_getinnerframes(etb, number_of_lines_of_context, tb_offset)\n",
      "  File \"C:\\ProgramData\\Anaconda3\\envs\\keras\\lib\\site-packages\\IPython\\core\\ultratb.py\", line 248, in wrapped\n",
      "    return f(*args, **kwargs)\n",
      "  File \"C:\\ProgramData\\Anaconda3\\envs\\keras\\lib\\site-packages\\IPython\\core\\ultratb.py\", line 281, in _fixed_getinnerframes\n",
      "    records = fix_frame_records_filenames(inspect.getinnerframes(etb, context))\n",
      "  File \"C:\\ProgramData\\Anaconda3\\envs\\keras\\lib\\inspect.py\", line 1541, in getinnerframes\n",
      "    frameinfo = (tb.tb_frame,) + getframeinfo(tb, context)\n",
      "  File \"C:\\ProgramData\\Anaconda3\\envs\\keras\\lib\\inspect.py\", line 1503, in getframeinfo\n",
      "    lines, lnum = findsource(frame)\n",
      "  File \"C:\\ProgramData\\Anaconda3\\envs\\keras\\lib\\site-packages\\IPython\\core\\ultratb.py\", line 170, in findsource\n",
      "    file = getsourcefile(object) or getfile(object)\n",
      "  File \"C:\\ProgramData\\Anaconda3\\envs\\keras\\lib\\inspect.py\", line 706, in getsourcefile\n",
      "    if os.path.exists(filename):\n",
      "  File \"C:\\ProgramData\\Anaconda3\\envs\\keras\\lib\\genericpath.py\", line 19, in exists\n",
      "    os.stat(path)\n",
      "KeyboardInterrupt\n"
     ]
    },
    {
     "ename": "TypeError",
     "evalue": "object of type 'NoneType' has no len()",
     "output_type": "error",
     "traceback": [
      "\u001b[1;31m---------------------------------------------------------------------------\u001b[0m",
      "\u001b[1;31mKeyboardInterrupt\u001b[0m                         Traceback (most recent call last)",
      "    \u001b[1;31m[... skipping hidden 1 frame]\u001b[0m\n",
      "\u001b[1;32m~\\AppData\\Local\\Temp/ipykernel_38484/2078636246.py\u001b[0m in \u001b[0;36m<module>\u001b[1;34m\u001b[0m\n\u001b[0;32m      5\u001b[0m            'TMUS','UPS','WFC']\n\u001b[1;32m----> 6\u001b[1;33m \u001b[0mdownload_stock_data\u001b[0m\u001b[1;33m(\u001b[0m\u001b[0mapi_keys\u001b[0m\u001b[1;33m,\u001b[0m \u001b[0msymbols\u001b[0m\u001b[1;33m,\u001b[0m \u001b[1;34m\"train\"\u001b[0m\u001b[1;33m)\u001b[0m\u001b[1;33m\u001b[0m\u001b[1;33m\u001b[0m\u001b[0m\n\u001b[0m\u001b[0;32m      7\u001b[0m \u001b[0mdownload_stock_data\u001b[0m\u001b[1;33m(\u001b[0m\u001b[0mapi_keys\u001b[0m\u001b[1;33m,\u001b[0m \u001b[0msymbols\u001b[0m\u001b[1;33m,\u001b[0m \u001b[1;34m\"test\"\u001b[0m\u001b[1;33m)\u001b[0m\u001b[1;33m\u001b[0m\u001b[1;33m\u001b[0m\u001b[0m\n",
      "\u001b[1;32m~\\AppData\\Local\\Temp/ipykernel_38484/3492455909.py\u001b[0m in \u001b[0;36mdownload_stock_data\u001b[1;34m(api_keys, symbols, mode)\u001b[0m\n\u001b[0;32m      9\u001b[0m             \u001b[1;32mif\u001b[0m \u001b[0mmode\u001b[0m \u001b[1;33m==\u001b[0m \u001b[1;34m\"train\"\u001b[0m\u001b[1;33m:\u001b[0m\u001b[1;33m\u001b[0m\u001b[1;33m\u001b[0m\u001b[0m\n\u001b[1;32m---> 10\u001b[1;33m                 \u001b[0mohlcv_data\u001b[0m \u001b[1;33m=\u001b[0m \u001b[0mget_ohlcv\u001b[0m\u001b[1;33m(\u001b[0m\u001b[0msymbol\u001b[0m\u001b[1;33m,\u001b[0m \u001b[1;34m\"train\"\u001b[0m\u001b[1;33m,\u001b[0m \u001b[0mapi_keys\u001b[0m\u001b[1;33m)\u001b[0m\u001b[1;33m\u001b[0m\u001b[1;33m\u001b[0m\u001b[0m\n\u001b[0m\u001b[0;32m     11\u001b[0m                 \u001b[0mnp\u001b[0m\u001b[1;33m.\u001b[0m\u001b[0msave\u001b[0m\u001b[1;33m(\u001b[0m\u001b[0msave_dir\u001b[0m \u001b[1;33m+\u001b[0m \u001b[1;34m\"/data/stock_total/\"\u001b[0m \u001b[1;33m+\u001b[0m \u001b[0msymbol\u001b[0m \u001b[1;33m+\u001b[0m \u001b[1;34m\"_minute_.npy\"\u001b[0m\u001b[1;33m,\u001b[0m \u001b[0mohlcv_data\u001b[0m\u001b[1;33m[\u001b[0m\u001b[1;33m:\u001b[0m\u001b[1;33m]\u001b[0m\u001b[1;33m)\u001b[0m\u001b[1;33m\u001b[0m\u001b[1;33m\u001b[0m\u001b[0m\n",
      "\u001b[1;32m~\\AppData\\Local\\Temp/ipykernel_38484/175116342.py\u001b[0m in \u001b[0;36mget_ohlcv\u001b[1;34m(symbol, data_type, api_keys)\u001b[0m\n\u001b[0;32m     26\u001b[0m             \u001b[1;32mtry\u001b[0m\u001b[1;33m:\u001b[0m\u001b[1;33m\u001b[0m\u001b[1;33m\u001b[0m\u001b[0m\n\u001b[1;32m---> 27\u001b[1;33m                 \u001b[0mdownload\u001b[0m \u001b[1;33m=\u001b[0m \u001b[0ms\u001b[0m\u001b[1;33m.\u001b[0m\u001b[0mget\u001b[0m\u001b[1;33m(\u001b[0m\u001b[0mapi_url\u001b[0m\u001b[1;33m)\u001b[0m\u001b[1;33m\u001b[0m\u001b[1;33m\u001b[0m\u001b[0m\n\u001b[0m\u001b[0;32m     28\u001b[0m             \u001b[1;32mexcept\u001b[0m \u001b[0mException\u001b[0m \u001b[1;32mas\u001b[0m \u001b[0me\u001b[0m\u001b[1;33m:\u001b[0m\u001b[1;33m\u001b[0m\u001b[1;33m\u001b[0m\u001b[0m\n",
      "\u001b[1;32mC:\\ProgramData\\Anaconda3\\envs\\keras\\lib\\site-packages\\requests\\sessions.py\u001b[0m in \u001b[0;36mget\u001b[1;34m(self, url, **kwargs)\u001b[0m\n\u001b[0;32m    554\u001b[0m         \u001b[0mkwargs\u001b[0m\u001b[1;33m.\u001b[0m\u001b[0msetdefault\u001b[0m\u001b[1;33m(\u001b[0m\u001b[1;34m'allow_redirects'\u001b[0m\u001b[1;33m,\u001b[0m \u001b[1;32mTrue\u001b[0m\u001b[1;33m)\u001b[0m\u001b[1;33m\u001b[0m\u001b[1;33m\u001b[0m\u001b[0m\n\u001b[1;32m--> 555\u001b[1;33m         \u001b[1;32mreturn\u001b[0m \u001b[0mself\u001b[0m\u001b[1;33m.\u001b[0m\u001b[0mrequest\u001b[0m\u001b[1;33m(\u001b[0m\u001b[1;34m'GET'\u001b[0m\u001b[1;33m,\u001b[0m \u001b[0murl\u001b[0m\u001b[1;33m,\u001b[0m \u001b[1;33m**\u001b[0m\u001b[0mkwargs\u001b[0m\u001b[1;33m)\u001b[0m\u001b[1;33m\u001b[0m\u001b[1;33m\u001b[0m\u001b[0m\n\u001b[0m\u001b[0;32m    556\u001b[0m \u001b[1;33m\u001b[0m\u001b[0m\n",
      "\u001b[1;32mC:\\ProgramData\\Anaconda3\\envs\\keras\\lib\\site-packages\\requests\\sessions.py\u001b[0m in \u001b[0;36mrequest\u001b[1;34m(self, method, url, params, data, headers, cookies, files, auth, timeout, allow_redirects, proxies, hooks, stream, verify, cert, json)\u001b[0m\n\u001b[0;32m    541\u001b[0m         \u001b[0msend_kwargs\u001b[0m\u001b[1;33m.\u001b[0m\u001b[0mupdate\u001b[0m\u001b[1;33m(\u001b[0m\u001b[0msettings\u001b[0m\u001b[1;33m)\u001b[0m\u001b[1;33m\u001b[0m\u001b[1;33m\u001b[0m\u001b[0m\n\u001b[1;32m--> 542\u001b[1;33m         \u001b[0mresp\u001b[0m \u001b[1;33m=\u001b[0m \u001b[0mself\u001b[0m\u001b[1;33m.\u001b[0m\u001b[0msend\u001b[0m\u001b[1;33m(\u001b[0m\u001b[0mprep\u001b[0m\u001b[1;33m,\u001b[0m \u001b[1;33m**\u001b[0m\u001b[0msend_kwargs\u001b[0m\u001b[1;33m)\u001b[0m\u001b[1;33m\u001b[0m\u001b[1;33m\u001b[0m\u001b[0m\n\u001b[0m\u001b[0;32m    543\u001b[0m \u001b[1;33m\u001b[0m\u001b[0m\n",
      "\u001b[1;32mC:\\ProgramData\\Anaconda3\\envs\\keras\\lib\\site-packages\\requests\\sessions.py\u001b[0m in \u001b[0;36msend\u001b[1;34m(self, request, **kwargs)\u001b[0m\n\u001b[0;32m    696\u001b[0m         \u001b[1;32mif\u001b[0m \u001b[1;32mnot\u001b[0m \u001b[0mstream\u001b[0m\u001b[1;33m:\u001b[0m\u001b[1;33m\u001b[0m\u001b[1;33m\u001b[0m\u001b[0m\n\u001b[1;32m--> 697\u001b[1;33m             \u001b[0mr\u001b[0m\u001b[1;33m.\u001b[0m\u001b[0mcontent\u001b[0m\u001b[1;33m\u001b[0m\u001b[1;33m\u001b[0m\u001b[0m\n\u001b[0m\u001b[0;32m    698\u001b[0m \u001b[1;33m\u001b[0m\u001b[0m\n",
      "\u001b[1;32mC:\\ProgramData\\Anaconda3\\envs\\keras\\lib\\site-packages\\requests\\models.py\u001b[0m in \u001b[0;36mcontent\u001b[1;34m(self)\u001b[0m\n\u001b[0;32m    835\u001b[0m             \u001b[1;32melse\u001b[0m\u001b[1;33m:\u001b[0m\u001b[1;33m\u001b[0m\u001b[1;33m\u001b[0m\u001b[0m\n\u001b[1;32m--> 836\u001b[1;33m                 \u001b[0mself\u001b[0m\u001b[1;33m.\u001b[0m\u001b[0m_content\u001b[0m \u001b[1;33m=\u001b[0m \u001b[1;34mb''\u001b[0m\u001b[1;33m.\u001b[0m\u001b[0mjoin\u001b[0m\u001b[1;33m(\u001b[0m\u001b[0mself\u001b[0m\u001b[1;33m.\u001b[0m\u001b[0miter_content\u001b[0m\u001b[1;33m(\u001b[0m\u001b[0mCONTENT_CHUNK_SIZE\u001b[0m\u001b[1;33m)\u001b[0m\u001b[1;33m)\u001b[0m \u001b[1;32mor\u001b[0m \u001b[1;34mb''\u001b[0m\u001b[1;33m\u001b[0m\u001b[1;33m\u001b[0m\u001b[0m\n\u001b[0m\u001b[0;32m    837\u001b[0m \u001b[1;33m\u001b[0m\u001b[0m\n",
      "\u001b[1;32mC:\\ProgramData\\Anaconda3\\envs\\keras\\lib\\site-packages\\requests\\models.py\u001b[0m in \u001b[0;36mgenerate\u001b[1;34m()\u001b[0m\n\u001b[0;32m    757\u001b[0m                 \u001b[1;32mtry\u001b[0m\u001b[1;33m:\u001b[0m\u001b[1;33m\u001b[0m\u001b[1;33m\u001b[0m\u001b[0m\n\u001b[1;32m--> 758\u001b[1;33m                     \u001b[1;32mfor\u001b[0m \u001b[0mchunk\u001b[0m \u001b[1;32min\u001b[0m \u001b[0mself\u001b[0m\u001b[1;33m.\u001b[0m\u001b[0mraw\u001b[0m\u001b[1;33m.\u001b[0m\u001b[0mstream\u001b[0m\u001b[1;33m(\u001b[0m\u001b[0mchunk_size\u001b[0m\u001b[1;33m,\u001b[0m \u001b[0mdecode_content\u001b[0m\u001b[1;33m=\u001b[0m\u001b[1;32mTrue\u001b[0m\u001b[1;33m)\u001b[0m\u001b[1;33m:\u001b[0m\u001b[1;33m\u001b[0m\u001b[1;33m\u001b[0m\u001b[0m\n\u001b[0m\u001b[0;32m    759\u001b[0m                         \u001b[1;32myield\u001b[0m \u001b[0mchunk\u001b[0m\u001b[1;33m\u001b[0m\u001b[1;33m\u001b[0m\u001b[0m\n",
      "\u001b[1;32mC:\\ProgramData\\Anaconda3\\envs\\keras\\lib\\site-packages\\urllib3\\response.py\u001b[0m in \u001b[0;36mstream\u001b[1;34m(self, amt, decode_content)\u001b[0m\n\u001b[0;32m    571\u001b[0m         \u001b[1;32mif\u001b[0m \u001b[0mself\u001b[0m\u001b[1;33m.\u001b[0m\u001b[0mchunked\u001b[0m \u001b[1;32mand\u001b[0m \u001b[0mself\u001b[0m\u001b[1;33m.\u001b[0m\u001b[0msupports_chunked_reads\u001b[0m\u001b[1;33m(\u001b[0m\u001b[1;33m)\u001b[0m\u001b[1;33m:\u001b[0m\u001b[1;33m\u001b[0m\u001b[1;33m\u001b[0m\u001b[0m\n\u001b[1;32m--> 572\u001b[1;33m             \u001b[1;32mfor\u001b[0m \u001b[0mline\u001b[0m \u001b[1;32min\u001b[0m \u001b[0mself\u001b[0m\u001b[1;33m.\u001b[0m\u001b[0mread_chunked\u001b[0m\u001b[1;33m(\u001b[0m\u001b[0mamt\u001b[0m\u001b[1;33m,\u001b[0m \u001b[0mdecode_content\u001b[0m\u001b[1;33m=\u001b[0m\u001b[0mdecode_content\u001b[0m\u001b[1;33m)\u001b[0m\u001b[1;33m:\u001b[0m\u001b[1;33m\u001b[0m\u001b[1;33m\u001b[0m\u001b[0m\n\u001b[0m\u001b[0;32m    573\u001b[0m                 \u001b[1;32myield\u001b[0m \u001b[0mline\u001b[0m\u001b[1;33m\u001b[0m\u001b[1;33m\u001b[0m\u001b[0m\n",
      "\u001b[1;32mC:\\ProgramData\\Anaconda3\\envs\\keras\\lib\\site-packages\\urllib3\\response.py\u001b[0m in \u001b[0;36mread_chunked\u001b[1;34m(self, amt, decode_content)\u001b[0m\n\u001b[0;32m    763\u001b[0m             \u001b[1;32mwhile\u001b[0m \u001b[1;32mTrue\u001b[0m\u001b[1;33m:\u001b[0m\u001b[1;33m\u001b[0m\u001b[1;33m\u001b[0m\u001b[0m\n\u001b[1;32m--> 764\u001b[1;33m                 \u001b[0mself\u001b[0m\u001b[1;33m.\u001b[0m\u001b[0m_update_chunk_length\u001b[0m\u001b[1;33m(\u001b[0m\u001b[1;33m)\u001b[0m\u001b[1;33m\u001b[0m\u001b[1;33m\u001b[0m\u001b[0m\n\u001b[0m\u001b[0;32m    765\u001b[0m                 \u001b[1;32mif\u001b[0m \u001b[0mself\u001b[0m\u001b[1;33m.\u001b[0m\u001b[0mchunk_left\u001b[0m \u001b[1;33m==\u001b[0m \u001b[1;36m0\u001b[0m\u001b[1;33m:\u001b[0m\u001b[1;33m\u001b[0m\u001b[1;33m\u001b[0m\u001b[0m\n",
      "\u001b[1;32mC:\\ProgramData\\Anaconda3\\envs\\keras\\lib\\site-packages\\urllib3\\response.py\u001b[0m in \u001b[0;36m_update_chunk_length\u001b[1;34m(self)\u001b[0m\n\u001b[0;32m    693\u001b[0m             \u001b[1;32mreturn\u001b[0m\u001b[1;33m\u001b[0m\u001b[1;33m\u001b[0m\u001b[0m\n\u001b[1;32m--> 694\u001b[1;33m         \u001b[0mline\u001b[0m \u001b[1;33m=\u001b[0m \u001b[0mself\u001b[0m\u001b[1;33m.\u001b[0m\u001b[0m_fp\u001b[0m\u001b[1;33m.\u001b[0m\u001b[0mfp\u001b[0m\u001b[1;33m.\u001b[0m\u001b[0mreadline\u001b[0m\u001b[1;33m(\u001b[0m\u001b[1;33m)\u001b[0m\u001b[1;33m\u001b[0m\u001b[1;33m\u001b[0m\u001b[0m\n\u001b[0m\u001b[0;32m    695\u001b[0m         \u001b[0mline\u001b[0m \u001b[1;33m=\u001b[0m \u001b[0mline\u001b[0m\u001b[1;33m.\u001b[0m\u001b[0msplit\u001b[0m\u001b[1;33m(\u001b[0m\u001b[1;34mb\";\"\u001b[0m\u001b[1;33m,\u001b[0m \u001b[1;36m1\u001b[0m\u001b[1;33m)\u001b[0m\u001b[1;33m[\u001b[0m\u001b[1;36m0\u001b[0m\u001b[1;33m]\u001b[0m\u001b[1;33m\u001b[0m\u001b[1;33m\u001b[0m\u001b[0m\n",
      "\u001b[1;32mC:\\ProgramData\\Anaconda3\\envs\\keras\\lib\\socket.py\u001b[0m in \u001b[0;36mreadinto\u001b[1;34m(self, b)\u001b[0m\n\u001b[0;32m    703\u001b[0m             \u001b[1;32mtry\u001b[0m\u001b[1;33m:\u001b[0m\u001b[1;33m\u001b[0m\u001b[1;33m\u001b[0m\u001b[0m\n\u001b[1;32m--> 704\u001b[1;33m                 \u001b[1;32mreturn\u001b[0m \u001b[0mself\u001b[0m\u001b[1;33m.\u001b[0m\u001b[0m_sock\u001b[0m\u001b[1;33m.\u001b[0m\u001b[0mrecv_into\u001b[0m\u001b[1;33m(\u001b[0m\u001b[0mb\u001b[0m\u001b[1;33m)\u001b[0m\u001b[1;33m\u001b[0m\u001b[1;33m\u001b[0m\u001b[0m\n\u001b[0m\u001b[0;32m    705\u001b[0m             \u001b[1;32mexcept\u001b[0m \u001b[0mtimeout\u001b[0m\u001b[1;33m:\u001b[0m\u001b[1;33m\u001b[0m\u001b[1;33m\u001b[0m\u001b[0m\n",
      "\u001b[1;32mC:\\ProgramData\\Anaconda3\\envs\\keras\\lib\\ssl.py\u001b[0m in \u001b[0;36mrecv_into\u001b[1;34m(self, buffer, nbytes, flags)\u001b[0m\n\u001b[0;32m   1240\u001b[0m                   self.__class__)\n\u001b[1;32m-> 1241\u001b[1;33m             \u001b[1;32mreturn\u001b[0m \u001b[0mself\u001b[0m\u001b[1;33m.\u001b[0m\u001b[0mread\u001b[0m\u001b[1;33m(\u001b[0m\u001b[0mnbytes\u001b[0m\u001b[1;33m,\u001b[0m \u001b[0mbuffer\u001b[0m\u001b[1;33m)\u001b[0m\u001b[1;33m\u001b[0m\u001b[1;33m\u001b[0m\u001b[0m\n\u001b[0m\u001b[0;32m   1242\u001b[0m         \u001b[1;32melse\u001b[0m\u001b[1;33m:\u001b[0m\u001b[1;33m\u001b[0m\u001b[1;33m\u001b[0m\u001b[0m\n",
      "\u001b[1;32mC:\\ProgramData\\Anaconda3\\envs\\keras\\lib\\ssl.py\u001b[0m in \u001b[0;36mread\u001b[1;34m(self, len, buffer)\u001b[0m\n\u001b[0;32m   1098\u001b[0m             \u001b[1;32mif\u001b[0m \u001b[0mbuffer\u001b[0m \u001b[1;32mis\u001b[0m \u001b[1;32mnot\u001b[0m \u001b[1;32mNone\u001b[0m\u001b[1;33m:\u001b[0m\u001b[1;33m\u001b[0m\u001b[1;33m\u001b[0m\u001b[0m\n\u001b[1;32m-> 1099\u001b[1;33m                 \u001b[1;32mreturn\u001b[0m \u001b[0mself\u001b[0m\u001b[1;33m.\u001b[0m\u001b[0m_sslobj\u001b[0m\u001b[1;33m.\u001b[0m\u001b[0mread\u001b[0m\u001b[1;33m(\u001b[0m\u001b[0mlen\u001b[0m\u001b[1;33m,\u001b[0m \u001b[0mbuffer\u001b[0m\u001b[1;33m)\u001b[0m\u001b[1;33m\u001b[0m\u001b[1;33m\u001b[0m\u001b[0m\n\u001b[0m\u001b[0;32m   1100\u001b[0m             \u001b[1;32melse\u001b[0m\u001b[1;33m:\u001b[0m\u001b[1;33m\u001b[0m\u001b[1;33m\u001b[0m\u001b[0m\n",
      "\u001b[1;31mKeyboardInterrupt\u001b[0m: ",
      "\nDuring handling of the above exception, another exception occurred:\n",
      "\u001b[1;31mAttributeError\u001b[0m                            Traceback (most recent call last)",
      "\u001b[1;32mC:\\ProgramData\\Anaconda3\\envs\\keras\\lib\\site-packages\\IPython\\core\\interactiveshell.py\u001b[0m in \u001b[0;36mshowtraceback\u001b[1;34m(self, exc_tuple, filename, tb_offset, exception_only, running_compiled_code)\u001b[0m\n\u001b[0;32m   2063\u001b[0m                         \u001b[1;31m# in the engines. This should return a list of strings.\u001b[0m\u001b[1;33m\u001b[0m\u001b[1;33m\u001b[0m\u001b[0m\n\u001b[1;32m-> 2064\u001b[1;33m                         \u001b[0mstb\u001b[0m \u001b[1;33m=\u001b[0m \u001b[0mvalue\u001b[0m\u001b[1;33m.\u001b[0m\u001b[0m_render_traceback_\u001b[0m\u001b[1;33m(\u001b[0m\u001b[1;33m)\u001b[0m\u001b[1;33m\u001b[0m\u001b[1;33m\u001b[0m\u001b[0m\n\u001b[0m\u001b[0;32m   2065\u001b[0m                     \u001b[1;32mexcept\u001b[0m \u001b[0mException\u001b[0m\u001b[1;33m:\u001b[0m\u001b[1;33m\u001b[0m\u001b[1;33m\u001b[0m\u001b[0m\n",
      "\u001b[1;31mAttributeError\u001b[0m: 'KeyboardInterrupt' object has no attribute '_render_traceback_'",
      "\nDuring handling of the above exception, another exception occurred:\n",
      "\u001b[1;31mTypeError\u001b[0m                                 Traceback (most recent call last)",
      "    \u001b[1;31m[... skipping hidden 1 frame]\u001b[0m\n",
      "\u001b[1;32mC:\\ProgramData\\Anaconda3\\envs\\keras\\lib\\site-packages\\IPython\\core\\interactiveshell.py\u001b[0m in \u001b[0;36mshowtraceback\u001b[1;34m(self, exc_tuple, filename, tb_offset, exception_only, running_compiled_code)\u001b[0m\n\u001b[0;32m   2064\u001b[0m                         \u001b[0mstb\u001b[0m \u001b[1;33m=\u001b[0m \u001b[0mvalue\u001b[0m\u001b[1;33m.\u001b[0m\u001b[0m_render_traceback_\u001b[0m\u001b[1;33m(\u001b[0m\u001b[1;33m)\u001b[0m\u001b[1;33m\u001b[0m\u001b[1;33m\u001b[0m\u001b[0m\n\u001b[0;32m   2065\u001b[0m                     \u001b[1;32mexcept\u001b[0m \u001b[0mException\u001b[0m\u001b[1;33m:\u001b[0m\u001b[1;33m\u001b[0m\u001b[1;33m\u001b[0m\u001b[0m\n\u001b[1;32m-> 2066\u001b[1;33m                         stb = self.InteractiveTB.structured_traceback(etype,\n\u001b[0m\u001b[0;32m   2067\u001b[0m                                             value, tb, tb_offset=tb_offset)\n\u001b[0;32m   2068\u001b[0m \u001b[1;33m\u001b[0m\u001b[0m\n",
      "\u001b[1;32mC:\\ProgramData\\Anaconda3\\envs\\keras\\lib\\site-packages\\IPython\\core\\ultratb.py\u001b[0m in \u001b[0;36mstructured_traceback\u001b[1;34m(self, etype, value, tb, tb_offset, number_of_lines_of_context)\u001b[0m\n\u001b[0;32m   1365\u001b[0m         \u001b[1;32melse\u001b[0m\u001b[1;33m:\u001b[0m\u001b[1;33m\u001b[0m\u001b[1;33m\u001b[0m\u001b[0m\n\u001b[0;32m   1366\u001b[0m             \u001b[0mself\u001b[0m\u001b[1;33m.\u001b[0m\u001b[0mtb\u001b[0m \u001b[1;33m=\u001b[0m \u001b[0mtb\u001b[0m\u001b[1;33m\u001b[0m\u001b[1;33m\u001b[0m\u001b[0m\n\u001b[1;32m-> 1367\u001b[1;33m         return FormattedTB.structured_traceback(\n\u001b[0m\u001b[0;32m   1368\u001b[0m             self, etype, value, tb, tb_offset, number_of_lines_of_context)\n\u001b[0;32m   1369\u001b[0m \u001b[1;33m\u001b[0m\u001b[0m\n",
      "\u001b[1;32mC:\\ProgramData\\Anaconda3\\envs\\keras\\lib\\site-packages\\IPython\\core\\ultratb.py\u001b[0m in \u001b[0;36mstructured_traceback\u001b[1;34m(self, etype, value, tb, tb_offset, number_of_lines_of_context)\u001b[0m\n\u001b[0;32m   1265\u001b[0m         \u001b[1;32mif\u001b[0m \u001b[0mmode\u001b[0m \u001b[1;32min\u001b[0m \u001b[0mself\u001b[0m\u001b[1;33m.\u001b[0m\u001b[0mverbose_modes\u001b[0m\u001b[1;33m:\u001b[0m\u001b[1;33m\u001b[0m\u001b[1;33m\u001b[0m\u001b[0m\n\u001b[0;32m   1266\u001b[0m             \u001b[1;31m# Verbose modes need a full traceback\u001b[0m\u001b[1;33m\u001b[0m\u001b[1;33m\u001b[0m\u001b[0m\n\u001b[1;32m-> 1267\u001b[1;33m             return VerboseTB.structured_traceback(\n\u001b[0m\u001b[0;32m   1268\u001b[0m                 \u001b[0mself\u001b[0m\u001b[1;33m,\u001b[0m \u001b[0metype\u001b[0m\u001b[1;33m,\u001b[0m \u001b[0mvalue\u001b[0m\u001b[1;33m,\u001b[0m \u001b[0mtb\u001b[0m\u001b[1;33m,\u001b[0m \u001b[0mtb_offset\u001b[0m\u001b[1;33m,\u001b[0m \u001b[0mnumber_of_lines_of_context\u001b[0m\u001b[1;33m\u001b[0m\u001b[1;33m\u001b[0m\u001b[0m\n\u001b[0;32m   1269\u001b[0m             )\n",
      "\u001b[1;32mC:\\ProgramData\\Anaconda3\\envs\\keras\\lib\\site-packages\\IPython\\core\\ultratb.py\u001b[0m in \u001b[0;36mstructured_traceback\u001b[1;34m(self, etype, evalue, etb, tb_offset, number_of_lines_of_context)\u001b[0m\n\u001b[0;32m   1122\u001b[0m         \u001b[1;34m\"\"\"Return a nice text document describing the traceback.\"\"\"\u001b[0m\u001b[1;33m\u001b[0m\u001b[1;33m\u001b[0m\u001b[0m\n\u001b[0;32m   1123\u001b[0m \u001b[1;33m\u001b[0m\u001b[0m\n\u001b[1;32m-> 1124\u001b[1;33m         formatted_exception = self.format_exception_as_a_whole(etype, evalue, etb, number_of_lines_of_context,\n\u001b[0m\u001b[0;32m   1125\u001b[0m                                                                tb_offset)\n\u001b[0;32m   1126\u001b[0m \u001b[1;33m\u001b[0m\u001b[0m\n",
      "\u001b[1;32mC:\\ProgramData\\Anaconda3\\envs\\keras\\lib\\site-packages\\IPython\\core\\ultratb.py\u001b[0m in \u001b[0;36mformat_exception_as_a_whole\u001b[1;34m(self, etype, evalue, etb, number_of_lines_of_context, tb_offset)\u001b[0m\n\u001b[0;32m   1080\u001b[0m \u001b[1;33m\u001b[0m\u001b[0m\n\u001b[0;32m   1081\u001b[0m \u001b[1;33m\u001b[0m\u001b[0m\n\u001b[1;32m-> 1082\u001b[1;33m         \u001b[0mlast_unique\u001b[0m\u001b[1;33m,\u001b[0m \u001b[0mrecursion_repeat\u001b[0m \u001b[1;33m=\u001b[0m \u001b[0mfind_recursion\u001b[0m\u001b[1;33m(\u001b[0m\u001b[0morig_etype\u001b[0m\u001b[1;33m,\u001b[0m \u001b[0mevalue\u001b[0m\u001b[1;33m,\u001b[0m \u001b[0mrecords\u001b[0m\u001b[1;33m)\u001b[0m\u001b[1;33m\u001b[0m\u001b[1;33m\u001b[0m\u001b[0m\n\u001b[0m\u001b[0;32m   1083\u001b[0m \u001b[1;33m\u001b[0m\u001b[0m\n\u001b[0;32m   1084\u001b[0m         \u001b[0mframes\u001b[0m \u001b[1;33m=\u001b[0m \u001b[0mself\u001b[0m\u001b[1;33m.\u001b[0m\u001b[0mformat_records\u001b[0m\u001b[1;33m(\u001b[0m\u001b[0mrecords\u001b[0m\u001b[1;33m,\u001b[0m \u001b[0mlast_unique\u001b[0m\u001b[1;33m,\u001b[0m \u001b[0mrecursion_repeat\u001b[0m\u001b[1;33m)\u001b[0m\u001b[1;33m\u001b[0m\u001b[1;33m\u001b[0m\u001b[0m\n",
      "\u001b[1;32mC:\\ProgramData\\Anaconda3\\envs\\keras\\lib\\site-packages\\IPython\\core\\ultratb.py\u001b[0m in \u001b[0;36mfind_recursion\u001b[1;34m(etype, value, records)\u001b[0m\n\u001b[0;32m    380\u001b[0m     \u001b[1;31m# first frame (from in to out) that looks different.\u001b[0m\u001b[1;33m\u001b[0m\u001b[1;33m\u001b[0m\u001b[0m\n\u001b[0;32m    381\u001b[0m     \u001b[1;32mif\u001b[0m \u001b[1;32mnot\u001b[0m \u001b[0mis_recursion_error\u001b[0m\u001b[1;33m(\u001b[0m\u001b[0metype\u001b[0m\u001b[1;33m,\u001b[0m \u001b[0mvalue\u001b[0m\u001b[1;33m,\u001b[0m \u001b[0mrecords\u001b[0m\u001b[1;33m)\u001b[0m\u001b[1;33m:\u001b[0m\u001b[1;33m\u001b[0m\u001b[1;33m\u001b[0m\u001b[0m\n\u001b[1;32m--> 382\u001b[1;33m         \u001b[1;32mreturn\u001b[0m \u001b[0mlen\u001b[0m\u001b[1;33m(\u001b[0m\u001b[0mrecords\u001b[0m\u001b[1;33m)\u001b[0m\u001b[1;33m,\u001b[0m \u001b[1;36m0\u001b[0m\u001b[1;33m\u001b[0m\u001b[1;33m\u001b[0m\u001b[0m\n\u001b[0m\u001b[0;32m    383\u001b[0m \u001b[1;33m\u001b[0m\u001b[0m\n\u001b[0;32m    384\u001b[0m     \u001b[1;31m# Select filename, lineno, func_name to track frames with\u001b[0m\u001b[1;33m\u001b[0m\u001b[1;33m\u001b[0m\u001b[0m\n",
      "\u001b[1;31mTypeError\u001b[0m: object of type 'NoneType' has no len()"
     ]
    }
   ],
   "source": [
    "# 주식 데이터 다운로드\n",
    "symbols = ['AAPL','MSFT','AMZN','GOOGL','FB','BRK-A','TSLA','TSM','BABA','V','JPM','NVDA','JNJ','WMT','UNH',\n",
    "           'MA','PYPL','PG','HD','DIS','BAC','ADBE','ASML','CMCSA','NKE','TM','ORCL','KO','XOM','NFLX','VZ',\n",
    "           'CSCO','PFE','INTC','LLY','CRM','PEP','ABT','ABBV','NVS','TMO','DHR','T','ACN','MRK','AVGO','CVX',\n",
    "           'TMUS','UPS','WFC']\n",
    "download_stock_data(api_keys, symbols, \"train\")\n",
    "download_stock_data(api_keys, symbols, \"test\")"
   ]
  },
  {
   "cell_type": "code",
   "execution_count": 32,
   "metadata": {
    "id": "X5rYhUpMixmj",
    "tags": []
   },
   "outputs": [],
   "source": [
    "# python-binance 캔들 가져오기\n",
    "def get_data(ticker, since, now):\n",
    "    client = Client()\n",
    "    #klines = client.get_historical_klines(ticker, Client.KLINE_INTERVAL_1MINUTE, since, now, 1000)\n",
    "    klines = client.futures_historical_klines(ticker, Client.KLINE_INTERVAL_1MINUTE, since, now)\n",
    "\n",
    "    csv_data = np.array(klines, dtype=np.float64)\n",
    "    print(\"get_data: \", len(csv_data))\n",
    "\n",
    "    return csv_data"
   ]
  },
  {
   "cell_type": "code",
   "execution_count": null,
   "metadata": {},
   "outputs": [],
   "source": [
    "# 최근 데이터 저장\n",
    "X_len = 128\n",
    "time_windows = [1]\n",
    "for i in range(2,17):\n",
    "    time_windows.append(i)\n",
    "\n",
    "since = datetime(2022,1,1,0,0)\n",
    "#since = datetime(2021,12,22,12,9) + timedelta(hours=1) * 9\n",
    "since = datetime(2022,3,10,11,58) + timedelta(hours=1) * 9\n",
    "since -= timedelta(minutes=1) * ((X_len-1)*time_windows[-1] + 1)\n",
    "#since = datetime(2021,1,1)\n",
    "since = int(time.mktime(since.timetuple()) * 1000)\n",
    "\n",
    "now = Client().get_server_time()['serverTime']\n",
    "\n",
    "print(\"since: \", datetime.fromtimestamp(since / 1000))\n",
    "print(\"now: \", datetime.fromtimestamp(now / 1000))\n",
    "\n",
    "tickers = [['DOGE','BUSD']]\n",
    "for ticker in tickers:\n",
    "    symbol = ticker[0] + ticker[1]\n",
    "    print(symbol)\n",
    "\n",
    "    csv_data = get_data(symbol, since, now)\n",
    "    np.save(\"../Data/test_future_recent_busd/\" + ticker[0] + \"_\" + ticker[1] + \"_minute.npy\", csv_data)"
   ]
  },
  {
   "cell_type": "code",
   "execution_count": null,
   "metadata": {
    "scrolled": true,
    "tags": []
   },
   "outputs": [],
   "source": [
    "# ticker 얻기 + python binance future\n",
    "client = Client()\n",
    "markets = client.futures_ticker()\n",
    "\n",
    "now_date = datetime(2022,1,1,0,0)\n",
    "now_timestamp = int(time.mktime(now_date.timetuple()) * 1000)\n",
    "start_date = now_date - timedelta(minutes=1) * 60 * 24 * 365\n",
    "start_timestamp = int(time.mktime(start_date.timetuple()) * 1000)\n",
    "print(start_date) # 최소 거래 시작 날짜\n",
    "\n",
    "not_contains = ['UP', 'DOWN', 'USD', 'AUD', 'BIDR', 'BRL', 'EUR', 'GBP', 'RUB', 'TRY', 'TUSD', 'USDC', 'DAI', 'IDRT', 'UAH', 'NGN', 'VAI', 'USDP']\n",
    "\n",
    "ticker_volumes = {}\n",
    "for market in markets:\n",
    "    symbol = market['symbol']\n",
    "    if 'USDT' in symbol:\n",
    "        ticker_valid = True\n",
    "        ticker = symbol.split('USDT')[0]\n",
    "        for not_contain in not_contains:\n",
    "            if not_contain in ticker:\n",
    "                ticker_valid = False; break\n",
    "        if ticker_valid:\n",
    "            ohlcvs = client.futures_historical_klines(symbol, Client.KLINE_INTERVAL_1DAY, 0)[0]\n",
    "            if ohlcvs[0] <= start_timestamp:\n",
    "                ticker_volumes[symbol] = float(market['quoteVolume'])\n",
    "\n",
    "sorted_ticker_volumes = sorted(ticker_volumes.items(), key=lambda item: item[1], reverse=True)\n",
    "symbols = np.array(sorted_ticker_volumes)[0:,0]\n",
    "print(len(symbols))\n",
    "for symbol in symbols:\n",
    "    print(\"'\" + symbol + \"', \", end='')"
   ]
  },
  {
   "cell_type": "code",
   "execution_count": null,
   "metadata": {
    "colab": {
     "base_uri": "https://localhost:8080/"
    },
    "executionInfo": {
     "elapsed": 273,
     "status": "ok",
     "timestamp": 1625197648898,
     "user": {
      "displayName": "김제현",
      "photoUrl": "https://lh3.googleusercontent.com/a-/AOh14GilfXCuZY05t440LP7vqyquA313Vg_BRAqFDA0dWA=s64",
      "userId": "15907357499084750798"
     },
     "user_tz": -540
    },
    "id": "hFwagIB6U4ZU",
    "outputId": "ef049ab7-c220-4689-eb7d-6abf518a7601",
    "tags": []
   },
   "outputs": [],
   "source": [
    "# spot ticker\n",
    "tickers = ['BTC/USDT', 'ETH/USDT', 'XRP/USDT', 'BNB/USDT', 'SOL/USDT', 'LUNA/USDT', 'MATIC/USDT', 'AVAX/USDT', 'THETA/USDT', 'DOT/USDT', 'ADA/USDT', 'SAND/USDT', 'FTM/USDT', 'MANA/USDT', 'DOGE/USDT', 'ETC/USDT', 'ATOM/USDT', 'TRX/USDT', 'NEAR/USDT', 'LTC/USDT', 'LINK/USDT', 'FIL/USDT', 'AXS/USDT', 'ROSE/USDT', 'ONE/USDT', 'VET/USDT', 'ARPA/USDT', 'CRV/USDT', 'LRC/USDT', 'EGLD/USDT', 'EOS/USDT', 'ALGO/USDT', 'BCH/USDT', 'OMG/USDT', 'IOTX/USDT', 'XTZ/USDT', 'ZEC/USDT', 'ENJ/USDT', 'KAVA/USDT', 'FTT/USDT', 'WIN/USDT', 'CHR/USDT', 'CHZ/USDT', 'BTT/USDT', 'REEF/USDT', 'UNI/USDT', 'SUSHI/USDT', 'SUN/USDT', 'ANT/USDT', 'TFUEL/USDT', 'WAVES/USDT', 'XLM/USDT', 'DENT/USDT', 'OGN/USDT', 'CELR/USDT', 'JST/USDT', 'ALPHA/USDT', 'RUNE/USDT', 'GRT/USDT', 'HOT/USDT', 'DUSK/USDT', 'COTI/USDT', 'AAVE/USDT', 'ONT/USDT', '1INCH/USDT', 'SXP/USDT', 'RSR/USDT', 'OCEAN/USDT', 'BLZ/USDT', 'HBAR/USDT', 'NEO/USDT', 'XMR/USDT', 'DASH/USDT', 'BAT/USDT', 'SRM/USDT', 'IOTA/USDT', 'ZEN/USDT', 'YFI/USDT', 'SKL/USDT', 'FET/USDT', 'COMP/USDT', 'QTUM/USDT', 'ZIL/USDT', 'KSM/USDT', 'HNT/USDT', 'CTSI/USDT', 'GXS/USDT', 'SNX/USDT', 'RVN/USDT', 'ANKR/USDT', 'COCOS/USDT', 'KNC/USDT', 'UNFI/USDT', 'IOST/USDT', 'DATA/USDT', 'BEAM/USDT', 'REN/USDT', 'MKR/USDT', 'NULS/USDT', 'ICX/USDT', 'SC/USDT', 'XVS/USDT', 'COS/USDT', 'UTK/USDT', 'VTHO/USDT', 'NKN/USDT', 'PAXG/USDT', 'BAND/USDT', 'WRX/USDT', 'DGB/USDT', 'STX/USDT', 'XEM/USDT', 'CTXC/USDT', 'MITH/USDT', 'PSG/USDT', 'CVC/USDT', 'BEL/USDT', 'AKRO/USDT', 'INJ/USDT', 'ZRX/USDT', 'MTL/USDT', 'CTK/USDT', 'BAL/USDT', 'FLM/USDT', 'NANO/USDT', 'MDT/USDT', 'HARD/USDT', 'STMX/USDT', 'TRB/USDT', 'KEY/USDT', 'LTO/USDT', 'TROY/USDT', 'IRIS/USDT', 'RLC/USDT', 'HIVE/USDT', 'STORJ/USDT', 'PNT/USDT', 'GTO/USDT', 'NMR/USDT', 'YFII/USDT', 'STRAX/USDT', 'DREP/USDT', 'BTS/USDT', 'DIA/USDT', 'FUN/USDT', 'OXT/USDT', 'AION/USDT', 'BNT/USDT', 'TOMO/USDT', 'FIO/USDT', 'WTC/USDT', 'NBS/USDT', 'WING/USDT', 'ONG/USDT', 'DNT/USDT', 'ORN/USDT', 'UMA/USDT', 'AVA/USDT', 'DOCK/USDT', 'MFT/USDT', 'PERL/USDT', 'DCR/USDT', 'ARDR/USDT', 'VITE/USDT', 'LSK/USDT', 'WNXM/USDT', 'WAN/USDT', 'ATM/USDT', 'KMD/USDT', 'STPT/USDT', 'TCT/USDT', 'OG/USDT', 'JUV/USDT', 'MBL/USDT', 'ASR/USDT', 'REP/USDT', 'BCC/USDT', 'VEN/USDT', 'PAX/USDT', 'BSV/USDT', 'ERD/USDT', 'NPXS/USDT', 'STORM/USDT', 'HC/USDT', 'MCO/USDT', 'BULL/USDT', 'BEAR/USDT', 'ETHBULL/USDT', 'ETHBEAR/USDT', 'EOSBULL/USDT', 'EOSBEAR/USDT', 'XRPBULL/USDT', 'XRPBEAR/USDT', 'STRAT/USDT', 'BNBBULL/USDT', 'BNBBEAR/USDT', 'XZC/USDT', 'LEND/USDT', 'BKRW/USDT', 'BZRX/USDT']\n",
    "print(len(tickers))"
   ]
  },
  {
   "cell_type": "code",
   "execution_count": null,
   "metadata": {},
   "outputs": [],
   "source": [
    "# USDT future ticker\n",
    "symbols = ['BTCUSDT', 'ETHUSDT', 'XRPUSDT', 'AVAXUSDT', 'SOLUSDT', 'ADAUSDT', 'ATOMUSDT', 'FTMUSDT', 'NEOUSDT', 'BNBUSDT', 'MATICUSDT', 'LTCUSDT', 'DOTUSDT', 'NEARUSDT', 'AXSUSDT', 'LINKUSDT', 'DOGEUSDT', 'KNCUSDT', 'BANDUSDT', 'FILUSDT', 'ETCUSDT', 'EOSUSDT', 'THETAUSDT', 'CRVUSDT', 'LRCUSDT', 'FLMUSDT', 'EGLDUSDT', 'BLZUSDT', 'SKLUSDT', 'SUSHIUSDT', 'QTUMUSDT', 'BCHUSDT', 'AAVEUSDT', 'ONTUSDT', 'UNIUSDT', 'HNTUSDT', 'XTZUSDT', 'ENJUSDT', 'VETUSDT', 'ALGOUSDT', 'TRXUSDT', 'GRTUSDT', '1INCHUSDT', 'WAVESUSDT', 'XLMUSDT', 'DASHUSDT', 'ZECUSDT', 'RUNEUSDT', 'XMRUSDT', 'KAVAUSDT', 'SXPUSDT', 'ZENUSDT', 'RSRUSDT', 'ALPHAUSDT', 'YFIUSDT', 'KSMUSDT', 'ZRXUSDT', 'RLCUSDT', 'OMGUSDT', 'COMPUSDT', 'BATUSDT', 'OCEANUSDT', 'MKRUSDT', 'CTKUSDT', 'IOSTUSDT', 'RENUSDT', 'ZILUSDT', 'SRMUSDT', 'BALUSDT', 'ICXUSDT', 'IOTAUSDT', 'CVCUSDT', 'SNXUSDT', 'STORJUSDT', 'YFIIUSDT', 'TRBUSDT', 'BELUSDT', 'TOMOUSDT', 'DEFIUSDT']\n",
    "print(len(symbols))"
   ]
  },
  {
   "cell_type": "code",
   "execution_count": null,
   "metadata": {},
   "outputs": [],
   "source": [
    "train_end = datetime(2021,1,1,0,0)\n",
    "train_end = int(time.mktime(train_end.timetuple()) * 1000)\n",
    "print(\"train_end: \", end='')\n",
    "print(train_end)\n",
    "test_end = datetime(2022,1,1,0,0)\n",
    "test_end = int(time.mktime(test_end.timetuple()) * 1000)\n",
    "print(\"test_end: \", end='')\n",
    "print(test_end)"
   ]
  },
  {
   "cell_type": "code",
   "execution_count": null,
   "metadata": {},
   "outputs": [],
   "source": [
    "# 데이터 만들고 저장. future\n",
    "for i, symbol in enumerate(symbols):\n",
    "    if i < 0: # 이 인덱스부터 시작\n",
    "        continue\n",
    "    print(i, symbol)\n",
    "\n",
    "    #csv_data = get_data(symbol, 0, train_end)\n",
    "    #np.save(save_dir + \"/Data/train_future_total_usdt/\" + symbol + \"_minute.npy\", csv_data)\n",
    "\n",
    "    csv_data = get_data(symbol, train_end, test_end)\n",
    "    np.save(save_dir + \"/Data/test_future_total_busd/\" + symbol + \"_minute.npy\", csv_data)"
   ]
  },
  {
   "cell_type": "code",
   "execution_count": null,
   "metadata": {
    "id": "WvM1f85wkC7y",
    "scrolled": true,
    "tags": []
   },
   "outputs": [],
   "source": [
    "# 데이터 만들고 저장. future\n",
    "for i, symbol in enumerate(symbols):\n",
    "    if i < 62: # 이 인덱스부터 시작\n",
    "        continue\n",
    "    print(i, symbol)\n",
    "\n",
    "    csv_data = get_data(symbol, 0, train_end)\n",
    "    np.save(save_dir + \"/Data/train_future_total_usdt/\" + symbol + \"_minute.npy\", csv_data)\n",
    "\n",
    "    csv_data = get_data(symbol, train_end, test_end)\n",
    "    np.save(save_dir + \"/Data/test_future_total_usdt/\" + symbol + \"_minute.npy\", csv_data)"
   ]
  },
  {
   "cell_type": "code",
   "execution_count": null,
   "metadata": {
    "tags": []
   },
   "outputs": [],
   "source": [
    "# 데이터 만들고 저장. \n",
    "for i, ticker in enumerate(tickers):\n",
    "    if i < 0: # 이 인덱스부터 시작\n",
    "        continue\n",
    "    symbol = ticker.split('/')[0]\n",
    "    print(i, symbol)\n",
    "    p_ticker = ticker.split('/')[0] + ticker.split('/')[1]\n",
    "\n",
    "    csv_data = get_data(p_ticker, 0, train_end)\n",
    "    np.save(save_dir + \"/Data/train_spot/\" + symbol + \"_minute.npy\", csv_data)\n",
    "\n",
    "    csv_data = get_data(p_ticker, train_end, test_end)\n",
    "    np.save(save_dir + \"/Data/test_spot/\" + symbol + \"_minute.npy\", csv_data)"
   ]
  },
  {
   "cell_type": "code",
   "execution_count": null,
   "metadata": {
    "id": "Hk2Yn8PLyNZ6",
    "tags": []
   },
   "outputs": [],
   "source": [
    "# MA\n",
    "# = (종가 * 2/(period + 1)) + (전일지수이평 * (1 - 2/(period + 1 )))\n",
    "def getMA(csv_data, period):\n",
    "    k = 2 / (period + 1)\n",
    "    ma_data = np.zeros((csv_data.shape[0], csv_data.shape[1]))\n",
    "    ma_data[1:] = (csv_data[1:] * k) + (ma_data[:-1] * (1 - k)) # 이거 안 됨\n",
    "\n",
    "    return ma_data\n",
    "\n",
    "# Bollinger Band\n",
    "# 상한선 = 20일 MA + (20일 주가 표준편차) * 2\n",
    "# 상한선 = 20일 MA - (20일 주가 표준편차) * 2\n",
    "def getBollinger(csv_data, period):\n",
    "    ma_data = getMA(csv_data, period)\n",
    "    bollinger_data = [np.zeros((csv_data.shape[0], csv_data.shape[1])), np.zeros((csv_data.shape[0], csv_data.shape[1]))]\n",
    "    \n",
    "    for i_data in range(csv_data.shape[1]):\n",
    "        for i_batch in range(period-1):\n",
    "            bollinger_data[0][i_batch, i_data] = csv_data[i_batch, i_data]\n",
    "            bollinger_data[1][i_batch, i_data] = csv_data[i_batch, i_data]\n",
    "        for i_batch in range(period-1, bollinger_data[0].shape[0]):\n",
    "            std_data = np.std(csv_data[i_batch-period+1:i_batch+1, i_data])\n",
    "            bollinger_data[0][i_batch, i_data] = ma_data[i_batch, i_data] + std_data * 2\n",
    "            bollinger_data[1][i_batch, i_data] = ma_data[i_batch, i_data] - std_data * 2\n",
    "\n",
    "    return bollinger_data\n",
    "\n",
    "# RSI\n",
    "# U = 주가 상승폭, D = 주가 하락폭\n",
    "# AU = N일 동안의 평균 U, AD = N일 동안의 평균 D\n",
    "# RS = AU / AD\n",
    "# RSI = AU / (AU + AD) = RS / (1 + RS)\n",
    "def getRSI(csv_data, period):\n",
    "    up_data = np.zeros((csv_data.shape[0], csv_data.shape[1]))\n",
    "    down_data = np.zeros((csv_data.shape[0], csv_data.shape[1]))\n",
    "    for i_data in range(csv_data.shape[1]):\n",
    "        up_data[0, i_data] = 0\n",
    "        down_data[0, i_data] = 0\n",
    "        for i_batch in range(1, csv_data.shape[0]):\n",
    "            if csv_data[i_batch, i_data] > csv_data[i_batch-1, i_data]:\n",
    "                up_data[i_batch, i_data] = csv_data[i_batch, i_data] - csv_data[i_batch-1, i_data]\n",
    "            else:\n",
    "                down_data[i_batch, i_data] = csv_data[i_batch-1, i_data] - csv_data[i_batch, i_data]\n",
    "\n",
    "    rsi_data = np.zeros((csv_data.shape[0], csv_data.shape[1]))\n",
    "    for i_data in range(rsi_data.shape[1]):\n",
    "        for i_batch in range(period-1):\n",
    "            rsi_data[i_batch, i_data] = 0.5\n",
    "        for i_batch in range(period-1, rsi_data.shape[0]):\n",
    "            AU = np.mean(up_data[i_batch-period+1:i_batch+1, i_data])\n",
    "            AD = np.mean(down_data[i_batch-period+1:i_batch+1, i_data])\n",
    "            RS = AU / AD\n",
    "            rsi_data[i_batch, i_data] = RS / (1 + RS)\n",
    "\n",
    "    return rsi_data\n",
    "\n",
    "# StochRSI\n",
    "# (RSI 종가 - RSI 저가) / (RSI 고가 - RSI 저가)\n",
    "def getStochRSI(csv_data, rsi_period, stoch_period):\n",
    "    rsi_data = getRSI(csv_data, rsi_period)\n",
    "    stoch_data = np.zeros((csv_data.shape[0], csv_data.shape[1]))\n",
    "    for i_data in range(stoch_data.shape[1]):\n",
    "        for i_batch in range(stoch_period-1):\n",
    "            stoch_data[i_batch, i_data] = 0.5\n",
    "        for i_batch in range(stoch_period-1, stoch_data.shape[0]):\n",
    "            high_rsi = np.max(rsi_data[i_batch-stoch_period+1:i_batch+1, i_data])\n",
    "            low_rsi = np.min(rsi_data[i_batch-stoch_period+1:i_batch+1, i_data])\n",
    "            if high_rsi - low_rsi > 0:\n",
    "                stoch_data[i_batch, i_data] = (rsi_data[i_batch, i_data] - low_rsi) / (high_rsi - low_rsi)\n",
    "\n",
    "    return stoch_data"
   ]
  },
  {
   "cell_type": "code",
   "execution_count": null,
   "metadata": {
    "id": "q6FhglK1oHsz"
   },
   "outputs": [],
   "source": []
  }
 ],
 "metadata": {
  "colab": {
   "collapsed_sections": [],
   "name": "Stock_Data_Processor.ipynb",
   "provenance": []
  },
  "kernelspec": {
   "display_name": "Python 3 (ipykernel)",
   "language": "python",
   "name": "python3"
  },
  "language_info": {
   "codemirror_mode": {
    "name": "ipython",
    "version": 3
   },
   "file_extension": ".py",
   "mimetype": "text/x-python",
   "name": "python",
   "nbconvert_exporter": "python",
   "pygments_lexer": "ipython3",
   "version": "3.9.7"
  }
 },
 "nbformat": 4,
 "nbformat_minor": 4
}
