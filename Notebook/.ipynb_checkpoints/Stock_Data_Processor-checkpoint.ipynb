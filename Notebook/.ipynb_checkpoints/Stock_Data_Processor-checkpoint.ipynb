{
 "cells": [
  {
   "cell_type": "code",
   "execution_count": null,
   "metadata": {
    "id": "t6WJ2DBMRwkf"
   },
   "outputs": [],
   "source": [
    "import csv\n",
    "import requests\n",
    "import math\n",
    "import asyncio\n",
    "import time\n",
    "from datetime import datetime, timedelta\n",
    "from dateutil.relativedelta import relativedelta\n",
    "\n",
    "import numpy as np\n",
    "from matplotlib import pyplot as plt\n",
    "\n",
    "import ccxt\n",
    "from binance.client import Client\n",
    "import itertools"
   ]
  },
  {
   "cell_type": "code",
   "execution_count": null,
   "metadata": {
    "jupyter": {
     "source_hidden": true
    },
    "tags": []
   },
   "outputs": [],
   "source": [
    "save_dir = \"../\""
   ]
  },
  {
   "cell_type": "code",
   "execution_count": null,
   "metadata": {
    "jupyter": {
     "source_hidden": true
    },
    "tags": []
   },
   "outputs": [],
   "source": [
    "keys = ['90DUYXNC7RT52O6A', 'R520AVI5YQ4GY3KS', 'KAA7D9WHBDPAMI0W', '4OO4HBAVMWBY9SGB', '14YXVYTAAPHMZ08W', 'NQIGNQ11QW6A7U3D', '9XC2SEN7V9PNBI6Q', 'C2B0F4WX5DAI9YU7', 'I1PUHU2RCZG4VHTP', '8X22TH1JE6Q3K319', 'JT68VQMI744IBF6N', 'RV6WTJUIHJ2S0IBO', 'RKR3ZUG4T6CXOVQW', 'ABL6T0Y6UTZ8OSLK', 'PZFC6U0H39TUFXR3', 'I2BZ8RWBUKIJAE87', 'U58CCJM3YPFK7O33', 'ASPPECJOXPREEBJB', 'XQS9KILRSAXGIZZN', 'JH0WHTK54KAUDFGZ', 'V0PVJ7MNMWABGGJ3', 'USAG12J9HUXQPKJW', '4HWYPRQZC2ERR5UM', '5EHXMUAABDRHYTFU', '2HXRSCIBK0W1QCC3', '88R2BYU2UY1SA300', '33I85SJ8PUWNN9V9', 'OMA6UXTC238349UC', '3O5XU38XF17VABIT', 'HCD6BXPJ97IZ9VSX', '0HUOIOH7EH4J1YGB', 'PG6TU7KMR6KJ89FB']\n",
    "api_keys = itertools.cycle(keys[2:])\n",
    "print(len(keys))"
   ]
  },
  {
   "cell_type": "code",
   "execution_count": null,
   "metadata": {
    "jupyter": {
     "source_hidden": true
    },
    "scrolled": true,
    "tags": []
   },
   "outputs": [],
   "source": [
    "api_key = next(api_keys)\n",
    "api_url = \"https://www.alphavantage.co/query?\" + \"function=LISTING_STATUS\" + \"&apikey=\" + 'api_key'\n",
    "with requests.Session() as s:\n",
    "    download = s.get(api_url)\n",
    "decoded_content = download.content.decode('utf-8')\n",
    "cr = csv.reader(decoded_content.splitlines(), delimiter=',')\n",
    "data_list = list(cr)\n",
    "data_np = np.array(data_list)\n",
    "symbols = data_np[1:,0]\n",
    "print(len(symbols))"
   ]
  },
  {
   "cell_type": "code",
   "execution_count": null,
   "metadata": {
    "jupyter": {
     "source_hidden": true
    },
    "tags": []
   },
   "outputs": [],
   "source": [
    "# 1년 이상의 데이터를 가지고 있는 symbol만 추출\n",
    "api_function = 'function=TIME_SERIES_INTRADAY_EXTENDED'\n",
    "api_interval = '&interval=60min'\n",
    "api_slice = '&slice=year2month1'\n",
    "\n",
    "valid_symbols = []"
   ]
  },
  {
   "cell_type": "code",
   "execution_count": null,
   "metadata": {
    "jupyter": {
     "source_hidden": true
    },
    "scrolled": true,
    "tags": []
   },
   "outputs": [],
   "source": [
    "i_symbol = 0\n",
    "while i_symbol < len(symbols):\n",
    "    api_key = '&apikey=' + next(api_keys)\n",
    "    symbol = symbols[i_symbol]\n",
    "    api_symbol = \"&symbol=\" + symbol\n",
    "    api_url = 'https://www.alphavantage.co/query?' + api_function + api_symbol + api_interval + api_slice + api_key\n",
    "    with requests.Session() as s:\n",
    "        try:\n",
    "            download = s.get(api_url)\n",
    "        except Exception as e:\n",
    "            print(e)\n",
    "            time.sleep(10)\n",
    "            continue\n",
    "    decoded_content = download.content.decode('utf-8')\n",
    "    cr = csv.reader(decoded_content.splitlines(), delimiter=',')\n",
    "    data_list = list(cr)\n",
    "    data_np = np.array(data_list)\n",
    "    if data_np.shape[1] != 6:\n",
    "        #print(i_symbol, \"api limit\")\n",
    "        time.sleep(60)\n",
    "        continue\n",
    "\n",
    "    print(i_symbol, symbol, len(data_np))\n",
    "    if len(data_np) > 1:\n",
    "        valid_symbols.append(symbol)\n",
    "    i_symbol += 1"
   ]
  },
  {
   "cell_type": "code",
   "execution_count": null,
   "metadata": {
    "jupyter": {
     "source_hidden": true
    },
    "tags": []
   },
   "outputs": [],
   "source": [
    "symbols = ['AAPL','MSFT','AMZN','GOOGL','FB','BRK-A','TSLA','TSM','BABA','V','JPM','NVDA','JNJ','WMT','UNH',\n",
    "           'MA','PYPL','PG','HD','DIS','BAC','ADBE','ASML','CMCSA','NKE','TM','ORCL','KO','XOM','NFLX','VZ',\n",
    "           'CSCO','PFE','INTC','LLY','CRM','PEP','ABT','ABBV','NVS','TMO','DHR','T','ACN','MRK','AVGO','CVX',\n",
    "           'TMUS','UPS','WFC']"
   ]
  },
  {
   "cell_type": "code",
   "execution_count": null,
   "metadata": {
    "jupyter": {
     "source_hidden": true
    },
    "tags": []
   },
   "outputs": [],
   "source": [
    "# 주식 캔들 가져오기\n",
    "def get_ohlcv(symbol, data_type):\n",
    "    api_function = 'function=TIME_SERIES_INTRADAY_EXTENDED'\n",
    "    api_symbol = \"&symbol=\" + symbol\n",
    "    api_interval = '&interval=1min'\n",
    "    #api_slice = '&slice=year1month1'\n",
    "\n",
    "    ohlcv_data = np.zeros((0,5))\n",
    "\n",
    "    year_month = [[i, j] for i in range(1,3) for j in range(1,13)]\n",
    "\n",
    "    if data_type == \"train\":\n",
    "        for i_del in range(5):\n",
    "            del year_month[0]\n",
    "    elif data_type == \"test\":\n",
    "        year_month = [[i, j] for i in range(1,2) for j in range(1,6)]\n",
    "\n",
    "    i_ym = 0\n",
    "    while(i_ym < len(year_month)):\n",
    "        api_key = '&apikey=' + next(api_keys)\n",
    "        ym = year_month[i_ym]\n",
    "        i_year = ym[0]\n",
    "        i_month = ym[1]\n",
    "        api_slice = '&slice=year' + str(i_year) + 'month' + str(i_month)\n",
    "        api_url = 'https://www.alphavantage.co/query?' + api_function + api_symbol + api_interval + api_slice + api_key\n",
    "        with requests.Session() as s:\n",
    "            try:\n",
    "                download = s.get(api_url)\n",
    "            except Exception as e:\n",
    "                print(e)\n",
    "                time.sleep(1)\n",
    "                continue\n",
    "            decoded_content = download.content.decode('utf-8')\n",
    "            cr = csv.reader(decoded_content.splitlines(), delimiter=',')\n",
    "            data_list = list(cr)\n",
    "            data_np = np.array(data_list)\n",
    "\n",
    "            if data_np.shape[1] != 6:\n",
    "                print(i_ym, \"api limit\")\n",
    "                time.sleep(1)\n",
    "                continue\n",
    "\n",
    "            #print(data_np[1,0])\n",
    "            #print(data_np[-1,0])\n",
    "            data_np = data_np[1:,1:6].astype(float)\n",
    "            ohlcv_data = np.append(ohlcv_data, data_np, axis=0)\n",
    "            i_ym += 1\n",
    "        \n",
    "    ohlcv_data = np.flip(ohlcv_data)\n",
    "    print(ohlcv_data.shape)\n",
    "\n",
    "    return ohlcv_data"
   ]
  },
  {
   "cell_type": "code",
   "execution_count": null,
   "metadata": {
    "id": "z67bsYumtosZ",
    "jupyter": {
     "source_hidden": true
    },
    "scrolled": true,
    "tags": []
   },
   "outputs": [],
   "source": [
    "api_key = api_keys[0]\n",
    "for i, symbol in enumerate(symbols):\n",
    "    if i < 27:\n",
    "        continue\n",
    "    try:\n",
    "        print(i, symbol)\n",
    "        ohlcv_data = get_ohlcv(symbol, \"total\", api_key)\n",
    "        np.save(save_dir + \"/data/stock_total/\" + symbol + \"_minute_.npy\", ohlcv_data[:])\n",
    "\n",
    "        #ohlcv_data = get_ohlcv(symbol, \"test\", api_key)\n",
    "        #np.save(save_dir + \"/data/stock_tests/\" + symbol + \"_minute_.npy\", ohlcv_data[:])\n",
    "    \n",
    "    except Exception as e:\n",
    "        print(e)\n",
    "        continue"
   ]
  },
  {
   "cell_type": "code",
   "execution_count": null,
   "metadata": {
    "id": "JNgmTPPoWL6j",
    "jupyter": {
     "source_hidden": true
    },
    "tags": []
   },
   "outputs": [],
   "source": [
    "plt.clf()\n",
    "plt.plot(list(range(len(ohlcv_data))), ohlcv_data[:,3])\n",
    "plt.show()"
   ]
  },
  {
   "cell_type": "code",
   "execution_count": null,
   "metadata": {
    "id": "X5rYhUpMixmj",
    "tags": []
   },
   "outputs": [],
   "source": [
    "# python-binance 캔들 가져오기\n",
    "def get_data(ticker, since, now):\n",
    "    client = Client()\n",
    "    #klines = client.get_historical_klines(ticker, Client.KLINE_INTERVAL_1MINUTE, since, now, 1000)\n",
    "    klines = client.futures_historical_klines(ticker, Client.KLINE_INTERVAL_1MINUTE, since, now)\n",
    "\n",
    "    csv_data = np.array(klines, dtype=np.float64)\n",
    "    print(\"get_data: \", len(csv_data))\n",
    "\n",
    "    return csv_data"
   ]
  },
  {
   "cell_type": "code",
   "execution_count": null,
   "metadata": {},
   "outputs": [],
   "source": [
    "# 최근 데이터 저장\n",
    "X_len = 128\n",
    "time_windows = [1]\n",
    "for i in range(2,17):\n",
    "    time_windows.append(i)\n",
    "\n",
    "since = datetime(2022,1,1,0,0)\n",
    "#since = datetime(2021,12,22,12,9) + timedelta(hours=1) * 9\n",
    "since = datetime(2022,3,10,11,58) + timedelta(hours=1) * 9\n",
    "since -= timedelta(minutes=1) * ((X_len-1)*time_windows[-1] + 1)\n",
    "#since = datetime(2021,1,1)\n",
    "since = int(time.mktime(since.timetuple()) * 1000)\n",
    "\n",
    "now = Client().get_server_time()['serverTime']\n",
    "\n",
    "print(\"since: \", datetime.fromtimestamp(since / 1000))\n",
    "print(\"now: \", datetime.fromtimestamp(now / 1000))\n",
    "\n",
    "tickers = [['DOGE','BUSD']]\n",
    "for ticker in tickers:\n",
    "    symbol = ticker[0] + ticker[1]\n",
    "    print(symbol)\n",
    "\n",
    "    csv_data = get_data(symbol, since, now)\n",
    "    np.save(\"../Data/test_future_recent_busd/\" + ticker[0] + \"_\" + ticker[1] + \"_minute.npy\", csv_data)"
   ]
  },
  {
   "cell_type": "code",
   "execution_count": null,
   "metadata": {
    "scrolled": true,
    "tags": []
   },
   "outputs": [],
   "source": [
    "# ticker 얻기 + python binance future\n",
    "client = Client()\n",
    "markets = client.futures_ticker()\n",
    "\n",
    "now_date = datetime(2022,1,1,0,0)\n",
    "now_timestamp = int(time.mktime(now_date.timetuple()) * 1000)\n",
    "start_date = now_date - timedelta(minutes=1) * 60 * 24 * 365\n",
    "start_timestamp = int(time.mktime(start_date.timetuple()) * 1000)\n",
    "print(start_date) # 최소 거래 시작 날짜\n",
    "\n",
    "not_contains = ['UP', 'DOWN', 'USD', 'AUD', 'BIDR', 'BRL', 'EUR', 'GBP', 'RUB', 'TRY', 'TUSD', 'USDC', 'DAI', 'IDRT', 'UAH', 'NGN', 'VAI', 'USDP']\n",
    "\n",
    "ticker_volumes = {}\n",
    "for market in markets:\n",
    "    symbol = market['symbol']\n",
    "    if 'USDT' in symbol:\n",
    "        ticker_valid = True\n",
    "        ticker = symbol.split('USDT')[0]\n",
    "        for not_contain in not_contains:\n",
    "            if not_contain in ticker:\n",
    "                ticker_valid = False; break\n",
    "        if ticker_valid:\n",
    "            ohlcvs = client.futures_historical_klines(symbol, Client.KLINE_INTERVAL_1DAY, 0)[0]\n",
    "            if ohlcvs[0] <= start_timestamp:\n",
    "                ticker_volumes[symbol] = float(market['quoteVolume'])\n",
    "\n",
    "sorted_ticker_volumes = sorted(ticker_volumes.items(), key=lambda item: item[1], reverse=True)\n",
    "symbols = np.array(sorted_ticker_volumes)[0:,0]\n",
    "print(len(symbols))\n",
    "for symbol in symbols:\n",
    "    print(\"'\" + symbol + \"', \", end='')"
   ]
  },
  {
   "cell_type": "code",
   "execution_count": null,
   "metadata": {
    "colab": {
     "base_uri": "https://localhost:8080/"
    },
    "executionInfo": {
     "elapsed": 121601,
     "status": "ok",
     "timestamp": 1622798367758,
     "user": {
      "displayName": "김제현",
      "photoUrl": "https://lh3.googleusercontent.com/-jvd5hO2tdFw/AAAAAAAAAAI/AAAAAAAADFs/Gar7unRFnns/s64/photo.jpg",
      "userId": "15907357499084750798"
     },
     "user_tz": -540
    },
    "id": "67ku2m1s-cb5",
    "jupyter": {
     "source_hidden": true
    },
    "outputId": "612646a5-c335-4f0c-dd16-1986e7632416",
    "scrolled": true,
    "tags": []
   },
   "outputs": [],
   "source": [
    "# ticker 얻기\n",
    "binance = ccxt.binance()\n",
    "markets = binance.fetch_tickers()\n",
    "tickers = markets.keys()\n",
    "\n",
    "now = datetime(2022,1,1,0,0)\n",
    "start_date = now - timedelta(minutes=1) * 60 * 24 * 365\n",
    "start_timestamp = int(time.mktime(start_date.timetuple()) * 1000)\n",
    "print(start_date) # 최소 거래 시작 날짜\n",
    "\n",
    "not_contains = ['UP', 'DOWN', 'USD', 'AUD', 'BIDR', 'BRL', 'EUR', 'GBP', 'RUB', 'TRY', 'TUSD', 'USDC', 'DAI', 'IDRT', 'UAH', 'NGN', 'VAI', 'USDP']\n",
    "\n",
    "ticker_volumes = {}\n",
    "for ticker in tickers:\n",
    "    ticker_split = ticker.split('/') \n",
    "    if ticker_split[1] == 'USDT':\n",
    "        ticker_valid = True\n",
    "        for not_contain in not_contains:\n",
    "            if not_contain in ticker_split[0]:\n",
    "                ticker_valid = False; break\n",
    "        if ticker_valid:\n",
    "            ohlcvs = binance.fetchOHLCV(ticker, timeframe='1m', since=0, limit=1)[0]\n",
    "            if ohlcvs[0] <= start_timestamp:\n",
    "                ticker_volumes[ticker] = markets[ticker]['quoteVolume']\n",
    "\n",
    "sorted_ticker_volumes = sorted(ticker_volumes.items(), key=lambda item: item[1], reverse=True)\n",
    "tickers = np.array(sorted_ticker_volumes)[0:,0]\n",
    "print(len(tickers))\n",
    "for ticker in tickers:\n",
    "    print(\"'\" + ticker + \"', \", end='')"
   ]
  },
  {
   "cell_type": "code",
   "execution_count": null,
   "metadata": {
    "colab": {
     "base_uri": "https://localhost:8080/"
    },
    "executionInfo": {
     "elapsed": 273,
     "status": "ok",
     "timestamp": 1625197648898,
     "user": {
      "displayName": "김제현",
      "photoUrl": "https://lh3.googleusercontent.com/a-/AOh14GilfXCuZY05t440LP7vqyquA313Vg_BRAqFDA0dWA=s64",
      "userId": "15907357499084750798"
     },
     "user_tz": -540
    },
    "id": "hFwagIB6U4ZU",
    "jupyter": {
     "source_hidden": true
    },
    "outputId": "ef049ab7-c220-4689-eb7d-6abf518a7601",
    "tags": []
   },
   "outputs": [],
   "source": [
    "# spot ticker\n",
    "tickers = ['BTC/USDT', 'ETH/USDT', 'XRP/USDT', 'BNB/USDT', 'SOL/USDT', 'LUNA/USDT', 'MATIC/USDT', 'AVAX/USDT', 'THETA/USDT', 'DOT/USDT', 'ADA/USDT', 'SAND/USDT', 'FTM/USDT', 'MANA/USDT', 'DOGE/USDT', 'ETC/USDT', 'ATOM/USDT', 'TRX/USDT', 'NEAR/USDT', 'LTC/USDT', 'LINK/USDT', 'FIL/USDT', 'AXS/USDT', 'ROSE/USDT', 'ONE/USDT', 'VET/USDT', 'ARPA/USDT', 'CRV/USDT', 'LRC/USDT', 'EGLD/USDT', 'EOS/USDT', 'ALGO/USDT', 'BCH/USDT', 'OMG/USDT', 'IOTX/USDT', 'XTZ/USDT', 'ZEC/USDT', 'ENJ/USDT', 'KAVA/USDT', 'FTT/USDT', 'WIN/USDT', 'CHR/USDT', 'CHZ/USDT', 'BTT/USDT', 'REEF/USDT', 'UNI/USDT', 'SUSHI/USDT', 'SUN/USDT', 'ANT/USDT', 'TFUEL/USDT', 'WAVES/USDT', 'XLM/USDT', 'DENT/USDT', 'OGN/USDT', 'CELR/USDT', 'JST/USDT', 'ALPHA/USDT', 'RUNE/USDT', 'GRT/USDT', 'HOT/USDT', 'DUSK/USDT', 'COTI/USDT', 'AAVE/USDT', 'ONT/USDT', '1INCH/USDT', 'SXP/USDT', 'RSR/USDT', 'OCEAN/USDT', 'BLZ/USDT', 'HBAR/USDT', 'NEO/USDT', 'XMR/USDT', 'DASH/USDT', 'BAT/USDT', 'SRM/USDT', 'IOTA/USDT', 'ZEN/USDT', 'YFI/USDT', 'SKL/USDT', 'FET/USDT', 'COMP/USDT', 'QTUM/USDT', 'ZIL/USDT', 'KSM/USDT', 'HNT/USDT', 'CTSI/USDT', 'GXS/USDT', 'SNX/USDT', 'RVN/USDT', 'ANKR/USDT', 'COCOS/USDT', 'KNC/USDT', 'UNFI/USDT', 'IOST/USDT', 'DATA/USDT', 'BEAM/USDT', 'REN/USDT', 'MKR/USDT', 'NULS/USDT', 'ICX/USDT', 'SC/USDT', 'XVS/USDT', 'COS/USDT', 'UTK/USDT', 'VTHO/USDT', 'NKN/USDT', 'PAXG/USDT', 'BAND/USDT', 'WRX/USDT', 'DGB/USDT', 'STX/USDT', 'XEM/USDT', 'CTXC/USDT', 'MITH/USDT', 'PSG/USDT', 'CVC/USDT', 'BEL/USDT', 'AKRO/USDT', 'INJ/USDT', 'ZRX/USDT', 'MTL/USDT', 'CTK/USDT', 'BAL/USDT', 'FLM/USDT', 'NANO/USDT', 'MDT/USDT', 'HARD/USDT', 'STMX/USDT', 'TRB/USDT', 'KEY/USDT', 'LTO/USDT', 'TROY/USDT', 'IRIS/USDT', 'RLC/USDT', 'HIVE/USDT', 'STORJ/USDT', 'PNT/USDT', 'GTO/USDT', 'NMR/USDT', 'YFII/USDT', 'STRAX/USDT', 'DREP/USDT', 'BTS/USDT', 'DIA/USDT', 'FUN/USDT', 'OXT/USDT', 'AION/USDT', 'BNT/USDT', 'TOMO/USDT', 'FIO/USDT', 'WTC/USDT', 'NBS/USDT', 'WING/USDT', 'ONG/USDT', 'DNT/USDT', 'ORN/USDT', 'UMA/USDT', 'AVA/USDT', 'DOCK/USDT', 'MFT/USDT', 'PERL/USDT', 'DCR/USDT', 'ARDR/USDT', 'VITE/USDT', 'LSK/USDT', 'WNXM/USDT', 'WAN/USDT', 'ATM/USDT', 'KMD/USDT', 'STPT/USDT', 'TCT/USDT', 'OG/USDT', 'JUV/USDT', 'MBL/USDT', 'ASR/USDT', 'REP/USDT', 'BCC/USDT', 'VEN/USDT', 'PAX/USDT', 'BSV/USDT', 'ERD/USDT', 'NPXS/USDT', 'STORM/USDT', 'HC/USDT', 'MCO/USDT', 'BULL/USDT', 'BEAR/USDT', 'ETHBULL/USDT', 'ETHBEAR/USDT', 'EOSBULL/USDT', 'EOSBEAR/USDT', 'XRPBULL/USDT', 'XRPBEAR/USDT', 'STRAT/USDT', 'BNBBULL/USDT', 'BNBBEAR/USDT', 'XZC/USDT', 'LEND/USDT', 'BKRW/USDT', 'BZRX/USDT']\n",
    "print(len(tickers))"
   ]
  },
  {
   "cell_type": "code",
   "execution_count": null,
   "metadata": {},
   "outputs": [],
   "source": [
    "# USDT future ticker\n",
    "symbols = ['BTCUSDT', 'ETHUSDT', 'XRPUSDT', 'AVAXUSDT', 'SOLUSDT', 'ADAUSDT', 'ATOMUSDT', 'FTMUSDT', 'NEOUSDT', 'BNBUSDT', 'MATICUSDT', 'LTCUSDT', 'DOTUSDT', 'NEARUSDT', 'AXSUSDT', 'LINKUSDT', 'DOGEUSDT', 'KNCUSDT', 'BANDUSDT', 'FILUSDT', 'ETCUSDT', 'EOSUSDT', 'THETAUSDT', 'CRVUSDT', 'LRCUSDT', 'FLMUSDT', 'EGLDUSDT', 'BLZUSDT', 'SKLUSDT', 'SUSHIUSDT', 'QTUMUSDT', 'BCHUSDT', 'AAVEUSDT', 'ONTUSDT', 'UNIUSDT', 'HNTUSDT', 'XTZUSDT', 'ENJUSDT', 'VETUSDT', 'ALGOUSDT', 'TRXUSDT', 'GRTUSDT', '1INCHUSDT', 'WAVESUSDT', 'XLMUSDT', 'DASHUSDT', 'ZECUSDT', 'RUNEUSDT', 'XMRUSDT', 'KAVAUSDT', 'SXPUSDT', 'ZENUSDT', 'RSRUSDT', 'ALPHAUSDT', 'YFIUSDT', 'KSMUSDT', 'ZRXUSDT', 'RLCUSDT', 'OMGUSDT', 'COMPUSDT', 'BATUSDT', 'OCEANUSDT', 'MKRUSDT', 'CTKUSDT', 'IOSTUSDT', 'RENUSDT', 'ZILUSDT', 'SRMUSDT', 'BALUSDT', 'ICXUSDT', 'IOTAUSDT', 'CVCUSDT', 'SNXUSDT', 'STORJUSDT', 'YFIIUSDT', 'TRBUSDT', 'BELUSDT', 'TOMOUSDT', 'DEFIUSDT']\n",
    "print(len(symbols))"
   ]
  },
  {
   "cell_type": "code",
   "execution_count": null,
   "metadata": {},
   "outputs": [],
   "source": [
    "symbols = ['DOGEBUSD', 'BTCBUSD', 'ETHBUSD', 'BNBBUSD']"
   ]
  },
  {
   "cell_type": "code",
   "execution_count": null,
   "metadata": {},
   "outputs": [],
   "source": [
    "train_end = datetime(2021,1,1,0,0)\n",
    "train_end = int(time.mktime(train_end.timetuple()) * 1000)\n",
    "print(\"train_end: \", end='')\n",
    "print(train_end)\n",
    "test_end = datetime(2022,1,1,0,0)\n",
    "test_end = int(time.mktime(test_end.timetuple()) * 1000)\n",
    "print(\"test_end: \", end='')\n",
    "print(test_end)"
   ]
  },
  {
   "cell_type": "code",
   "execution_count": null,
   "metadata": {},
   "outputs": [],
   "source": [
    "# 데이터 만들고 저장. future\n",
    "for i, symbol in enumerate(symbols):\n",
    "    if i < 0: # 이 인덱스부터 시작\n",
    "        continue\n",
    "    print(i, symbol)\n",
    "\n",
    "    #csv_data = get_data(symbol, 0, train_end)\n",
    "    #np.save(save_dir + \"/Data/train_future_total_usdt/\" + symbol + \"_minute.npy\", csv_data)\n",
    "\n",
    "    csv_data = get_data(symbol, train_end, test_end)\n",
    "    np.save(save_dir + \"/Data/test_future_total_busd/\" + symbol + \"_minute.npy\", csv_data)"
   ]
  },
  {
   "cell_type": "code",
   "execution_count": null,
   "metadata": {
    "id": "WvM1f85wkC7y",
    "scrolled": true,
    "tags": []
   },
   "outputs": [],
   "source": [
    "# 데이터 만들고 저장. future\n",
    "for i, symbol in enumerate(symbols):\n",
    "    if i < 62: # 이 인덱스부터 시작\n",
    "        continue\n",
    "    print(i, symbol)\n",
    "\n",
    "    csv_data = get_data(symbol, 0, train_end)\n",
    "    np.save(save_dir + \"/Data/train_future_total_usdt/\" + symbol + \"_minute.npy\", csv_data)\n",
    "\n",
    "    csv_data = get_data(symbol, train_end, test_end)\n",
    "    np.save(save_dir + \"/Data/test_future_total_usdt/\" + symbol + \"_minute.npy\", csv_data)"
   ]
  },
  {
   "cell_type": "code",
   "execution_count": null,
   "metadata": {
    "jupyter": {
     "source_hidden": true
    },
    "tags": []
   },
   "outputs": [],
   "source": [
    "# 데이터 만들고 저장. \n",
    "for i, ticker in enumerate(tickers):\n",
    "    if i < 0: # 이 인덱스부터 시작\n",
    "        continue\n",
    "    symbol = ticker.split('/')[0]\n",
    "    print(i, symbol)\n",
    "    p_ticker = ticker.split('/')[0] + ticker.split('/')[1]\n",
    "\n",
    "    csv_data = get_data(p_ticker, 0, train_end)\n",
    "    np.save(save_dir + \"/Data/train_spot/\" + symbol + \"_minute.npy\", csv_data)\n",
    "\n",
    "    csv_data = get_data(p_ticker, train_end, test_end)\n",
    "    np.save(save_dir + \"/Data/test_spot/\" + symbol + \"_minute.npy\", csv_data)"
   ]
  },
  {
   "cell_type": "code",
   "execution_count": null,
   "metadata": {
    "id": "uZZk_3b6R7fs",
    "jupyter": {
     "source_hidden": true
    },
    "tags": []
   },
   "outputs": [],
   "source": [
    "# 거래량 깊이 그래프\n",
    "def data2Xy(csv_data, X_len):\n",
    "    depth_window = 100\n",
    "    X_window = 100\n",
    "    y_window = 1\n",
    "\n",
    "    X_data = np.zeros((csv_data.shape[0] - X_window - y_window + 1, depth_window,1))\n",
    "    y_data = np.zeros((csv_data.shape[0] - X_window - y_window + 1,1))\n",
    "\n",
    "    value_mean = np.mean([csv_data[:,0], csv_data[:,3]], axis=0)\n",
    "\n",
    "    # csv_data => open, high, low, close, volume\n",
    "    for i_batch in range(X_data.shape[0]):\n",
    "        value_origin = csv_data[i_batch+X_window-1, 3] # 원점 = 현재 종가\n",
    "        value_min = value_origin * 0.95\n",
    "        value_max = value_origin * 1.05\n",
    "\n",
    "        value_idx = np.round((value_mean[i_batch:i_batch+X_window] - value_min) / (value_max - value_min) * (depth_window-1))\n",
    "        value_depth = np.zeros((depth_window,))\n",
    "        for i_X in range(value_idx.shape[0]):\n",
    "            if value_idx[i_X] >= 0 and value_idx[i_X] < depth_window:\n",
    "                value_depth[int(value_idx[i_X])] += value_mean[i_batch+i_X] * csv_data[i_batch+i_X,4]\n",
    "\n",
    "        for i_X in range(1, int(depth_window/2)):\n",
    "            i_up = i_X + int(depth_window/2)\n",
    "            i_down = int(depth_window/2) - i_X - 1\n",
    "            value_depth[i_up] += value_depth[i_up-1]\n",
    "            value_depth[i_down] += value_depth[i_down+1]\n",
    "\n",
    "        X_data[i_batch,:,0] = value_depth\n",
    "        '''\n",
    "        X_max = np.max(X_data[i_batch])\n",
    "        X_min = np.min(X_data[i_batch])\n",
    "        if X_max > X_min:\n",
    "            X_data[i_batch] = (X_data[i_batch] - X_min)/(X_max - X_min)\n",
    "        '''\n",
    "        '''\n",
    "        value_sum = 0\n",
    "        if np.sum(csv_data[i_batch+X_window:i_batch+X_window+y_window,4]) != 0:\n",
    "            for i_y in range(y_window):\n",
    "                value_sum += value_mean[i_batch+X_window+i_y] * csv_data[i_batch+X_window+i_y,4]\n",
    "            y_mean = value_sum / np.sum(csv_data[i_batch+X_window:i_batch+X_window+y_window,4])\n",
    "            y_rate = y_mean / value_origin - 1\n",
    "        else:\n",
    "            y_rate = 0\n",
    "        '''\n",
    "        '''\n",
    "        if csv_data[i_batch+X_window,3] > csv_data[i_batch+X_window-1,3]:\n",
    "            y_data[i_batch] = 1\n",
    "        else:\n",
    "            y_data[i_batch] = 0\n",
    "        '''\n",
    "        y_data[i_batch] = np.mean(value_mean[i_batch+X_window:i_batch+X_window+y_window])\n",
    "        y_data[i_batch] = np.clip(y_rate*mul_rate, -1, 1)\n",
    "    \n",
    "    return X_data, y_data"
   ]
  },
  {
   "cell_type": "code",
   "execution_count": null,
   "metadata": {
    "id": "3ZkfH8Vw202E",
    "jupyter": {
     "source_hidden": true
    },
    "tags": []
   },
   "outputs": [],
   "source": [
    "# 캔들 데이터, open, high, low, close\n",
    "from scipy.signal import savgol_filter\n",
    "from scipy.ndimage import gaussian_filter1d\n",
    "from sklearn.preprocessing import RobustScaler\n",
    "\n",
    "def data2Xy(csv_data, X_len):\n",
    "    y_window = 1\n",
    "\n",
    "    X_data = np.zeros((csv_data.shape[0]-y_window, 2))\n",
    "    y_data = np.zeros((csv_data.shape[0]-y_window,))\n",
    "    for i_batch in range(X_data.shape[0]):\n",
    "        X_data[i_batch,0] = (csv_data[i_batch,0] - csv_data[i_batch,2]) / (csv_data[i_batch,1] - csv_data[i_batch,2])\n",
    "        X_data[i_batch,1] = (csv_data[i_batch,3] - csv_data[i_batch,2]) / (csv_data[i_batch,1] - csv_data[i_batch,2])\n",
    "\n",
    "        if np.mean(csv_data[i_batch+1:i_batch+1+y_window,3]) >= csv_data[i_batch,3]:\n",
    "            y_data[i_batch] = 1.0\n",
    "        elif np.mean(csv_data[i_batch+1:i_batch+1+y_window,3]) < csv_data[i_batch,3]:\n",
    "            y_data[i_batch] = 0.0\n",
    "\n",
    "    return X_data, y_data"
   ]
  },
  {
   "cell_type": "code",
   "execution_count": null,
   "metadata": {
    "id": "yB_0tpp8X1Ci",
    "jupyter": {
     "source_hidden": true
    },
    "tags": []
   },
   "outputs": [],
   "source": [
    "# 보조 지표까지 데이터화\n",
    "def data2Xy(csv_data, X_len, y_len):\n",
    "    div_rate = 5\n",
    "    \n",
    "    close_rate_data = np.zeros((csv_data.shape[0], 1))\n",
    "    close_rate_data[1:] = (csv_data[1:] / csv_data[:csv_data.shape[0]-1] - 1)\n",
    "\n",
    "    ma_data = getMA(csv_data, 7)\n",
    "    ma_rate_data = np.zeros((csv_data.shape[0], 1))\n",
    "    ma_rate_data = (ma_data / csv_data - 1)\n",
    "\n",
    "    boll_data = getBollinger(csv_data, 21)\n",
    "    boll_rate_data = [np.zeros((csv_data.shape[0], 1)), np.zeros((csv_data.shape[0], 1))]\n",
    "    boll_rate_data[0] = (boll_data[0] / csv_data - 1)\n",
    "    boll_rate_data[1] = (boll_data[1] / csv_data - 1)\n",
    "\n",
    "    stoch_data = getStochRSI(csv_data, 14, 14)\n",
    "    stoch_rate_data = stoch_data * 2 - 1\n",
    "\n",
    "\n",
    "    X_data = np.zeros((csv_data.shape[0]-X_len-y_len+1, X_len, 5))\n",
    "    y_data = np.zeros((csv_data.shape[0]-X_len-y_len+1, y_len, 1))\n",
    "    \n",
    "    for i_batch in range(X_data.shape[0]):\n",
    "        X_data[i_batch,:,0] = close_rate_data[i_batch:i_batch+X_len,0]\n",
    "        X_data[i_batch,:,1] = ma_rate_data[i_batch:i_batch+X_len,0]\n",
    "        X_data[i_batch,:,2] = boll_rate_data[0][i_batch:i_batch+X_len,0]\n",
    "        X_data[i_batch,:,3] = boll_rate_data[1][i_batch:i_batch+X_len,0]\n",
    "        X_data[i_batch,:,4] = stoch_rate_data[i_batch:i_batch+X_len,0]\n",
    "\n",
    "        y_data[i_batch,:,0] = close_rate_data[i_batch+X_len:i_batch+X_len+y_len,0]\n",
    "\n",
    "        close_rate_mean = np.mean(X_data[i_batch,:,0])\n",
    "        close_rate_std = np.std(X_data[i_batch,:,0])\n",
    "        X_data[i_batch,:,0] = (X_data[i_batch,:,0] - close_rate_mean)/close_rate_std / div_rate\n",
    "        y_data[i_batch,:,0] = (y_data[i_batch,:,0] - close_rate_mean)/close_rate_std / div_rate\n",
    "\n",
    "        ma_rate_mean = np.mean(X_data[i_batch,:,1])\n",
    "        ma_rate_std = np.std(X_data[i_batch,:,1])\n",
    "        X_data[i_batch,:,1] = (X_data[i_batch,:,1] - ma_rate_mean)/ma_rate_std / div_rate\n",
    "\n",
    "        high_boll_rate_mean = np.mean(X_data[i_batch,:,2])\n",
    "        high_boll_rate_std = np.std(X_data[i_batch,:,2])\n",
    "        X_data[i_batch,:,2] = (X_data[i_batch,:,2] - high_boll_rate_mean)/high_boll_rate_std / div_rate\n",
    "\n",
    "        low_boll_rate_mean = np.mean(X_data[i_batch,:,3])\n",
    "        low_boll_rate_std = np.std(X_data[i_batch,:,3])\n",
    "        X_data[i_batch,:,3] = (X_data[i_batch,:,3] - low_boll_rate_mean)/low_boll_rate_std / div_rate\n",
    "\n",
    "    X_data = np.clip(X_data, -1, 1)\n",
    "    y_data = np.clip(y_data, -1, 1)\n",
    "\n",
    "    return X_data, y_data"
   ]
  },
  {
   "cell_type": "code",
   "execution_count": null,
   "metadata": {
    "id": "Hk2Yn8PLyNZ6",
    "jupyter": {
     "source_hidden": true
    },
    "tags": []
   },
   "outputs": [],
   "source": [
    "# MA\n",
    "# = (종가 * 2/(period + 1)) + (전일지수이평 * (1 - 2/(period + 1 )))\n",
    "def getMA(csv_data, period):\n",
    "    k = 2 / (period + 1)\n",
    "    ma_data = np.zeros((csv_data.shape[0], csv_data.shape[1]))\n",
    "    ma_data[1:] = (csv_data[1:] * k) + (ma_data[:-1] * (1 - k)) # 이거 안 됨\n",
    "\n",
    "    return ma_data\n",
    "\n",
    "# Bollinger Band\n",
    "# 상한선 = 20일 MA + (20일 주가 표준편차) * 2\n",
    "# 상한선 = 20일 MA - (20일 주가 표준편차) * 2\n",
    "def getBollinger(csv_data, period):\n",
    "    ma_data = getMA(csv_data, period)\n",
    "    bollinger_data = [np.zeros((csv_data.shape[0], csv_data.shape[1])), np.zeros((csv_data.shape[0], csv_data.shape[1]))]\n",
    "    \n",
    "    for i_data in range(csv_data.shape[1]):\n",
    "        for i_batch in range(period-1):\n",
    "            bollinger_data[0][i_batch, i_data] = csv_data[i_batch, i_data]\n",
    "            bollinger_data[1][i_batch, i_data] = csv_data[i_batch, i_data]\n",
    "        for i_batch in range(period-1, bollinger_data[0].shape[0]):\n",
    "            std_data = np.std(csv_data[i_batch-period+1:i_batch+1, i_data])\n",
    "            bollinger_data[0][i_batch, i_data] = ma_data[i_batch, i_data] + std_data * 2\n",
    "            bollinger_data[1][i_batch, i_data] = ma_data[i_batch, i_data] - std_data * 2\n",
    "\n",
    "    return bollinger_data\n",
    "\n",
    "# RSI\n",
    "# U = 주가 상승폭, D = 주가 하락폭\n",
    "# AU = N일 동안의 평균 U, AD = N일 동안의 평균 D\n",
    "# RS = AU / AD\n",
    "# RSI = AU / (AU + AD) = RS / (1 + RS)\n",
    "def getRSI(csv_data, period):\n",
    "    up_data = np.zeros((csv_data.shape[0], csv_data.shape[1]))\n",
    "    down_data = np.zeros((csv_data.shape[0], csv_data.shape[1]))\n",
    "    for i_data in range(csv_data.shape[1]):\n",
    "        up_data[0, i_data] = 0\n",
    "        down_data[0, i_data] = 0\n",
    "        for i_batch in range(1, csv_data.shape[0]):\n",
    "            if csv_data[i_batch, i_data] > csv_data[i_batch-1, i_data]:\n",
    "                up_data[i_batch, i_data] = csv_data[i_batch, i_data] - csv_data[i_batch-1, i_data]\n",
    "            else:\n",
    "                down_data[i_batch, i_data] = csv_data[i_batch-1, i_data] - csv_data[i_batch, i_data]\n",
    "\n",
    "    rsi_data = np.zeros((csv_data.shape[0], csv_data.shape[1]))\n",
    "    for i_data in range(rsi_data.shape[1]):\n",
    "        for i_batch in range(period-1):\n",
    "            rsi_data[i_batch, i_data] = 0.5\n",
    "        for i_batch in range(period-1, rsi_data.shape[0]):\n",
    "            AU = np.mean(up_data[i_batch-period+1:i_batch+1, i_data])\n",
    "            AD = np.mean(down_data[i_batch-period+1:i_batch+1, i_data])\n",
    "            RS = AU / AD\n",
    "            rsi_data[i_batch, i_data] = RS / (1 + RS)\n",
    "\n",
    "    return rsi_data\n",
    "\n",
    "# StochRSI\n",
    "# (RSI 종가 - RSI 저가) / (RSI 고가 - RSI 저가)\n",
    "def getStochRSI(csv_data, rsi_period, stoch_period):\n",
    "    rsi_data = getRSI(csv_data, rsi_period)\n",
    "    stoch_data = np.zeros((csv_data.shape[0], csv_data.shape[1]))\n",
    "    for i_data in range(stoch_data.shape[1]):\n",
    "        for i_batch in range(stoch_period-1):\n",
    "            stoch_data[i_batch, i_data] = 0.5\n",
    "        for i_batch in range(stoch_period-1, stoch_data.shape[0]):\n",
    "            high_rsi = np.max(rsi_data[i_batch-stoch_period+1:i_batch+1, i_data])\n",
    "            low_rsi = np.min(rsi_data[i_batch-stoch_period+1:i_batch+1, i_data])\n",
    "            if high_rsi - low_rsi > 0:\n",
    "                stoch_data[i_batch, i_data] = (rsi_data[i_batch, i_data] - low_rsi) / (high_rsi - low_rsi)\n",
    "\n",
    "    return stoch_data"
   ]
  },
  {
   "cell_type": "code",
   "execution_count": null,
   "metadata": {
    "id": "q6FhglK1oHsz"
   },
   "outputs": [],
   "source": []
  }
 ],
 "metadata": {
  "colab": {
   "collapsed_sections": [],
   "name": "Stock_Data_Processor.ipynb",
   "provenance": []
  },
  "kernelspec": {
   "display_name": "Python 3 (ipykernel)",
   "language": "python",
   "name": "python3"
  },
  "language_info": {
   "codemirror_mode": {
    "name": "ipython",
    "version": 3
   },
   "file_extension": ".py",
   "mimetype": "text/x-python",
   "name": "python",
   "nbconvert_exporter": "python",
   "pygments_lexer": "ipython3",
   "version": "3.9.7"
  }
 },
 "nbformat": 4,
 "nbformat_minor": 4
}
